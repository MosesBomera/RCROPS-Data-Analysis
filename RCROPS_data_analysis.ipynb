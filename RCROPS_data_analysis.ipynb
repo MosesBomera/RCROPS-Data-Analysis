{
 "cells": [
  {
   "cell_type": "markdown",
   "metadata": {},
   "source": [
    "## RCROPS Data Analysis"
   ]
  },
  {
   "cell_type": "markdown",
   "metadata": {},
   "source": [
    "### Gender Distribution\n",
    "- Gender representation (Number of male and female farmers in the data)\n",
    "- Number of submissions (per gender)\n",
    "- Number of submissions per crop (per gender)\n",
    "- Number of submissions per region (per gender)"
   ]
  },
  {
   "cell_type": "markdown",
   "metadata": {},
   "source": [
    "### Libraries Setup"
   ]
  },
  {
   "cell_type": "code",
   "execution_count": 1,
   "metadata": {},
   "outputs": [],
   "source": [
    "import os\n",
    "import numpy as np\n",
    "import pandas as pd\n",
    "\n",
    "#Pretty figures\n",
    "%matplotlib inline\n",
    "import matplotlib as mpl\n",
    "import matplotlib.pyplot as plt\n",
    "mpl.rc('axes', labelsize=14)\n",
    "mpl.rc('xtick', labelsize=12)\n",
    "mpl.rc('ytick', labelsize=12)\n",
    "\n",
    "# Saving figures\n",
    "PROJECT_ROOT_DIR = \".\"\n",
    "ASPECT = \"gender\"\n",
    "FIGURES_PATH = os.path.join(PROJECT_ROOT_DIR, \"figures\", ASPECT)\n",
    "os.makedirs(FIGURES_PATH, exist_ok=True)\n",
    "\n",
    "def save_figure(fig_name, tight_layout=True, extension=\"png\", resolution=300):\n",
    "    \"\"\"\n",
    "        Saves plotted figures to a set directory.\n",
    "    \"\"\"\n",
    "    path = os.path.join(FIGURES_PATH, fig_name + \".\" + extension)\n",
    "    if tight_layout:\n",
    "        plt.tight_layout()\n",
    "    plt.savefig(path, format=extension, dpi=resolution)\n",
    "    \n",
    "\n",
    "def percentage(dataset, attribute):\n",
    "    \"\"\"\n",
    "        Calculates percentage per representation.\n",
    "    \"\"\"\n",
    "    return dataset[attribute].value_counts() / len(dataset) * 100\n",
    "    \n",
    "# Ignore useless warnings (see SciPy issue #5998)\n",
    "import warnings\n",
    "warnings.filterwarnings(action=\"ignore\", message=\"^internal gelsd\")"
   ]
  },
  {
   "cell_type": "markdown",
   "metadata": {},
   "source": [
    "### Data Loading"
   ]
  },
  {
   "cell_type": "code",
   "execution_count": 2,
   "metadata": {},
   "outputs": [],
   "source": [
    "def load_data(file_name, data_path=\"data\"):\n",
    "    \"\"\"\n",
    "        Loads data given the file name.\n",
    "    \"\"\"\n",
    "    file_path = os.path.join(data_path,file_name)\n",
    "    return pd.read_csv(file_path)"
   ]
  },
  {
   "cell_type": "code",
   "execution_count": 3,
   "metadata": {},
   "outputs": [],
   "source": [
    "# Data Loading\n",
    "farmers_data = load_data(\"farmers_data.csv\") # farmers data\n",
    "beans_data   = load_data(\"beans_data.csv\")   # beans data\n",
    "maize_data   = load_data(\"maize_data.csv\")   # maize data\n",
    "cassava_data = load_data(\"cassava_data.csv\") # cassava data"
   ]
  },
  {
   "cell_type": "code",
   "execution_count": 4,
   "metadata": {},
   "outputs": [
    {
     "data": {
      "text/html": [
       "<div>\n",
       "<style scoped>\n",
       "    .dataframe tbody tr th:only-of-type {\n",
       "        vertical-align: middle;\n",
       "    }\n",
       "\n",
       "    .dataframe tbody tr th {\n",
       "        vertical-align: top;\n",
       "    }\n",
       "\n",
       "    .dataframe thead th {\n",
       "        text-align: right;\n",
       "    }\n",
       "</style>\n",
       "<table border=\"1\" class=\"dataframe\">\n",
       "  <thead>\n",
       "    <tr style=\"text-align: right;\">\n",
       "      <th></th>\n",
       "      <th>Unnamed: 0</th>\n",
       "      <th>Farmer_ID</th>\n",
       "      <th>Gender</th>\n",
       "      <th>District</th>\n",
       "      <th>SubCounty</th>\n",
       "      <th>County/Village</th>\n",
       "    </tr>\n",
       "  </thead>\n",
       "  <tbody>\n",
       "    <tr>\n",
       "      <td>0</td>\n",
       "      <td>0</td>\n",
       "      <td>farmer_26595</td>\n",
       "      <td>Female</td>\n",
       "      <td>Kamuli</td>\n",
       "      <td>NaN</td>\n",
       "      <td>NaN</td>\n",
       "    </tr>\n",
       "    <tr>\n",
       "      <td>1</td>\n",
       "      <td>1</td>\n",
       "      <td>farmer_85867</td>\n",
       "      <td>Female</td>\n",
       "      <td>Nakasongola</td>\n",
       "      <td>Nabiswera</td>\n",
       "      <td>Nabiswera</td>\n",
       "    </tr>\n",
       "    <tr>\n",
       "      <td>2</td>\n",
       "      <td>2</td>\n",
       "      <td>farmer_05315</td>\n",
       "      <td>Male</td>\n",
       "      <td>Luweero</td>\n",
       "      <td>Katikamu</td>\n",
       "      <td>Katikamu</td>\n",
       "    </tr>\n",
       "    <tr>\n",
       "      <td>3</td>\n",
       "      <td>3</td>\n",
       "      <td>farmer_45092</td>\n",
       "      <td>Male</td>\n",
       "      <td>Nakasongola</td>\n",
       "      <td>Nakasongola Town Council</td>\n",
       "      <td>Sungira</td>\n",
       "    </tr>\n",
       "    <tr>\n",
       "      <td>4</td>\n",
       "      <td>4</td>\n",
       "      <td>farmer_64194</td>\n",
       "      <td>Male</td>\n",
       "      <td>Nakasongola</td>\n",
       "      <td>Kalungi</td>\n",
       "      <td>Kabandi</td>\n",
       "    </tr>\n",
       "  </tbody>\n",
       "</table>\n",
       "</div>"
      ],
      "text/plain": [
       "   Unnamed: 0     Farmer_ID  Gender     District                 SubCounty  \\\n",
       "0           0  farmer_26595  Female       Kamuli                       NaN   \n",
       "1           1  farmer_85867  Female  Nakasongola                 Nabiswera   \n",
       "2           2  farmer_05315    Male      Luweero                  Katikamu   \n",
       "3           3  farmer_45092    Male  Nakasongola  Nakasongola Town Council   \n",
       "4           4  farmer_64194    Male  Nakasongola                   Kalungi   \n",
       "\n",
       "  County/Village  \n",
       "0            NaN  \n",
       "1      Nabiswera  \n",
       "2       Katikamu  \n",
       "3        Sungira  \n",
       "4        Kabandi  "
      ]
     },
     "execution_count": 4,
     "metadata": {},
     "output_type": "execute_result"
    }
   ],
   "source": [
    "farmers_data.head()"
   ]
  },
  {
   "cell_type": "code",
   "execution_count": 5,
   "metadata": {},
   "outputs": [
    {
     "data": {
      "text/html": [
       "<div>\n",
       "<style scoped>\n",
       "    .dataframe tbody tr th:only-of-type {\n",
       "        vertical-align: middle;\n",
       "    }\n",
       "\n",
       "    .dataframe tbody tr th {\n",
       "        vertical-align: top;\n",
       "    }\n",
       "\n",
       "    .dataframe thead th {\n",
       "        text-align: right;\n",
       "    }\n",
       "</style>\n",
       "<table border=\"1\" class=\"dataframe\">\n",
       "  <thead>\n",
       "    <tr style=\"text-align: right;\">\n",
       "      <th></th>\n",
       "      <th>Unnamed: 0</th>\n",
       "      <th>FARMER_ID</th>\n",
       "      <th>_CREATION_DATE</th>\n",
       "      <th>_LAST_UPDATE_DATE</th>\n",
       "      <th>_IS_COMPLETE</th>\n",
       "      <th>_SUBMISSION_DATE</th>\n",
       "      <th>_MARKED_AS_COMPLETE_DATE</th>\n",
       "      <th>BEAN_DATA_END_TIME</th>\n",
       "      <th>BEAN_DATA_BEAN_VARIETY</th>\n",
       "      <th>BEAN_DATA_BEAN_IMAGE_GPS_LNG</th>\n",
       "      <th>BEAN_DATA_BEAN_IMAGE_GPS_ALT</th>\n",
       "      <th>BEAN_DATA_IMAGE_CLASS</th>\n",
       "      <th>BEAN_DATA_BEAN_COMMENT</th>\n",
       "      <th>BEAN_DATA_BEAN_IMAGE_GPS_ACC</th>\n",
       "      <th>BEAN_DATA_SUBMISSION_TIME</th>\n",
       "      <th>BEAN_DATA_BEAN_IMAGE_GPS_LAT</th>\n",
       "      <th>BEAN_DATA_START_TIME</th>\n",
       "    </tr>\n",
       "  </thead>\n",
       "  <tbody>\n",
       "    <tr>\n",
       "      <td>0</td>\n",
       "      <td>0</td>\n",
       "      <td>farmer_99268</td>\n",
       "      <td>2019-09-23 13:09:42.299</td>\n",
       "      <td>2019-09-23 13:09:42.299</td>\n",
       "      <td>1</td>\n",
       "      <td>2019-09-23 13:09:42.293</td>\n",
       "      <td>2019-09-23 13:09:42.293</td>\n",
       "      <td>2019-09-23 12:57:58.117</td>\n",
       "      <td>NaN</td>\n",
       "      <td>32.625314</td>\n",
       "      <td>1146.0</td>\n",
       "      <td>als</td>\n",
       "      <td>Commlon bacteria blight</td>\n",
       "      <td>7.300</td>\n",
       "      <td>2019-09-23 00:00:00.000</td>\n",
       "      <td>0.521535</td>\n",
       "      <td>2019-09-23 12:55:59.742</td>\n",
       "    </tr>\n",
       "    <tr>\n",
       "      <td>1</td>\n",
       "      <td>1</td>\n",
       "      <td>farmer_99268</td>\n",
       "      <td>2019-10-09 19:33:39.698</td>\n",
       "      <td>2019-10-09 19:33:39.698</td>\n",
       "      <td>0</td>\n",
       "      <td>2019-10-09 19:33:39.684</td>\n",
       "      <td>NaN</td>\n",
       "      <td>2019-10-09 10:46:53.560</td>\n",
       "      <td>Yellow</td>\n",
       "      <td>31.705838</td>\n",
       "      <td>1265.1</td>\n",
       "      <td>other</td>\n",
       "      <td>Black small insects</td>\n",
       "      <td>7.338</td>\n",
       "      <td>2019-10-05 00:00:00.000</td>\n",
       "      <td>-0.380002</td>\n",
       "      <td>2019-10-05 15:51:59.821</td>\n",
       "    </tr>\n",
       "    <tr>\n",
       "      <td>2</td>\n",
       "      <td>2</td>\n",
       "      <td>farmer_99268</td>\n",
       "      <td>2019-10-09 19:36:42.284</td>\n",
       "      <td>2019-10-09 19:36:42.284</td>\n",
       "      <td>1</td>\n",
       "      <td>2019-10-09 19:36:42.277</td>\n",
       "      <td>2019-10-09 19:36:42.277</td>\n",
       "      <td>2019-10-07 15:15:01.670</td>\n",
       "      <td>Yellow</td>\n",
       "      <td>31.705845</td>\n",
       "      <td>1258.1</td>\n",
       "      <td>other</td>\n",
       "      <td>Brown patches</td>\n",
       "      <td>7.366</td>\n",
       "      <td>2019-10-07 00:00:00.000</td>\n",
       "      <td>-0.380074</td>\n",
       "      <td>2019-10-07 15:14:06.300</td>\n",
       "    </tr>\n",
       "    <tr>\n",
       "      <td>3</td>\n",
       "      <td>3</td>\n",
       "      <td>farmer_99268</td>\n",
       "      <td>2019-10-09 19:37:11.540</td>\n",
       "      <td>2019-10-09 19:37:11.540</td>\n",
       "      <td>1</td>\n",
       "      <td>2019-10-09 19:37:11.534</td>\n",
       "      <td>2019-10-09 19:37:11.534</td>\n",
       "      <td>2019-10-09 10:49:48.606</td>\n",
       "      <td>Yellow</td>\n",
       "      <td>31.705812</td>\n",
       "      <td>1255.4</td>\n",
       "      <td>other</td>\n",
       "      <td>Whole plant has yellow leaves</td>\n",
       "      <td>7.300</td>\n",
       "      <td>2019-10-07 00:00:00.000</td>\n",
       "      <td>-0.380017</td>\n",
       "      <td>2019-10-07 15:17:07.527</td>\n",
       "    </tr>\n",
       "    <tr>\n",
       "      <td>4</td>\n",
       "      <td>4</td>\n",
       "      <td>farmer_99268</td>\n",
       "      <td>2019-10-09 19:37:37.865</td>\n",
       "      <td>2019-10-09 19:37:37.865</td>\n",
       "      <td>1</td>\n",
       "      <td>2019-10-09 19:37:37.859</td>\n",
       "      <td>2019-10-09 19:37:37.859</td>\n",
       "      <td>2019-10-07 15:21:39.422</td>\n",
       "      <td>Yellow</td>\n",
       "      <td>31.705854</td>\n",
       "      <td>1252.7</td>\n",
       "      <td>other</td>\n",
       "      <td>Yellow and brown leaves</td>\n",
       "      <td>7.300</td>\n",
       "      <td>2019-10-07 00:00:00.000</td>\n",
       "      <td>-0.379977</td>\n",
       "      <td>2019-10-07 15:20:30.972</td>\n",
       "    </tr>\n",
       "  </tbody>\n",
       "</table>\n",
       "</div>"
      ],
      "text/plain": [
       "   Unnamed: 0     FARMER_ID           _CREATION_DATE        _LAST_UPDATE_DATE  \\\n",
       "0           0  farmer_99268  2019-09-23 13:09:42.299  2019-09-23 13:09:42.299   \n",
       "1           1  farmer_99268  2019-10-09 19:33:39.698  2019-10-09 19:33:39.698   \n",
       "2           2  farmer_99268  2019-10-09 19:36:42.284  2019-10-09 19:36:42.284   \n",
       "3           3  farmer_99268  2019-10-09 19:37:11.540  2019-10-09 19:37:11.540   \n",
       "4           4  farmer_99268  2019-10-09 19:37:37.865  2019-10-09 19:37:37.865   \n",
       "\n",
       "   _IS_COMPLETE         _SUBMISSION_DATE _MARKED_AS_COMPLETE_DATE  \\\n",
       "0             1  2019-09-23 13:09:42.293  2019-09-23 13:09:42.293   \n",
       "1             0  2019-10-09 19:33:39.684                      NaN   \n",
       "2             1  2019-10-09 19:36:42.277  2019-10-09 19:36:42.277   \n",
       "3             1  2019-10-09 19:37:11.534  2019-10-09 19:37:11.534   \n",
       "4             1  2019-10-09 19:37:37.859  2019-10-09 19:37:37.859   \n",
       "\n",
       "        BEAN_DATA_END_TIME BEAN_DATA_BEAN_VARIETY  \\\n",
       "0  2019-09-23 12:57:58.117                    NaN   \n",
       "1  2019-10-09 10:46:53.560                 Yellow   \n",
       "2  2019-10-07 15:15:01.670                 Yellow   \n",
       "3  2019-10-09 10:49:48.606                 Yellow   \n",
       "4  2019-10-07 15:21:39.422                 Yellow   \n",
       "\n",
       "   BEAN_DATA_BEAN_IMAGE_GPS_LNG  BEAN_DATA_BEAN_IMAGE_GPS_ALT  \\\n",
       "0                     32.625314                        1146.0   \n",
       "1                     31.705838                        1265.1   \n",
       "2                     31.705845                        1258.1   \n",
       "3                     31.705812                        1255.4   \n",
       "4                     31.705854                        1252.7   \n",
       "\n",
       "  BEAN_DATA_IMAGE_CLASS         BEAN_DATA_BEAN_COMMENT  \\\n",
       "0                   als        Commlon bacteria blight   \n",
       "1                 other            Black small insects   \n",
       "2                 other                  Brown patches   \n",
       "3                 other  Whole plant has yellow leaves   \n",
       "4                 other        Yellow and brown leaves   \n",
       "\n",
       "   BEAN_DATA_BEAN_IMAGE_GPS_ACC BEAN_DATA_SUBMISSION_TIME  \\\n",
       "0                         7.300   2019-09-23 00:00:00.000   \n",
       "1                         7.338   2019-10-05 00:00:00.000   \n",
       "2                         7.366   2019-10-07 00:00:00.000   \n",
       "3                         7.300   2019-10-07 00:00:00.000   \n",
       "4                         7.300   2019-10-07 00:00:00.000   \n",
       "\n",
       "   BEAN_DATA_BEAN_IMAGE_GPS_LAT     BEAN_DATA_START_TIME  \n",
       "0                      0.521535  2019-09-23 12:55:59.742  \n",
       "1                     -0.380002  2019-10-05 15:51:59.821  \n",
       "2                     -0.380074  2019-10-07 15:14:06.300  \n",
       "3                     -0.380017  2019-10-07 15:17:07.527  \n",
       "4                     -0.379977  2019-10-07 15:20:30.972  "
      ]
     },
     "execution_count": 5,
     "metadata": {},
     "output_type": "execute_result"
    }
   ],
   "source": [
    "beans_data.head()"
   ]
  },
  {
   "cell_type": "code",
   "execution_count": 6,
   "metadata": {},
   "outputs": [
    {
     "data": {
      "text/html": [
       "<div>\n",
       "<style scoped>\n",
       "    .dataframe tbody tr th:only-of-type {\n",
       "        vertical-align: middle;\n",
       "    }\n",
       "\n",
       "    .dataframe tbody tr th {\n",
       "        vertical-align: top;\n",
       "    }\n",
       "\n",
       "    .dataframe thead th {\n",
       "        text-align: right;\n",
       "    }\n",
       "</style>\n",
       "<table border=\"1\" class=\"dataframe\">\n",
       "  <thead>\n",
       "    <tr style=\"text-align: right;\">\n",
       "      <th></th>\n",
       "      <th>Unnamed: 0</th>\n",
       "      <th>FARMER_ID</th>\n",
       "      <th>_CREATION_DATE</th>\n",
       "      <th>_LAST_UPDATE_DATE</th>\n",
       "      <th>_IS_COMPLETE</th>\n",
       "      <th>_SUBMISSION_DATE</th>\n",
       "      <th>_MARKED_AS_COMPLETE_DATE</th>\n",
       "      <th>CASSAVA_DATA_END_TIME</th>\n",
       "      <th>CASSAVA_DATA_CASSAVA_IMAGE_CLASS</th>\n",
       "      <th>CASSAVA_DATA_START_TIME</th>\n",
       "      <th>CASSAVA_DATA_CASSAVA_COMMENT</th>\n",
       "      <th>CASSAVA_DATA_CASSAVA_IMAGE_GPS_ALT</th>\n",
       "      <th>CASSAVA_DATA_CASSAVA_IMAGE_GPS_LNG</th>\n",
       "      <th>CASSAVA_DATA_CASSAVA_IMAGE_GPS_LAT</th>\n",
       "      <th>CASSAVA_DATA_SUBMISSION_TIME</th>\n",
       "      <th>CASSAVA_DATA_CASSAVA_IMAGE_GPS_ACC</th>\n",
       "    </tr>\n",
       "  </thead>\n",
       "  <tbody>\n",
       "    <tr>\n",
       "      <td>0</td>\n",
       "      <td>0</td>\n",
       "      <td>farmer_43804</td>\n",
       "      <td>2019-09-23 13:08:04</td>\n",
       "      <td>2019-09-23 13:08:04</td>\n",
       "      <td>1</td>\n",
       "      <td>2019-09-23 13:08:04</td>\n",
       "      <td>2019-09-23 13:08:04</td>\n",
       "      <td>2019-09-23 12:21:17</td>\n",
       "      <td>cmd</td>\n",
       "      <td>2019-09-23 12:18:46</td>\n",
       "      <td>This plant was planted when it was sick</td>\n",
       "      <td>0.000000</td>\n",
       "      <td>32.624897</td>\n",
       "      <td>0.521737</td>\n",
       "      <td>2019-09-23 00:00:00</td>\n",
       "      <td>92.900</td>\n",
       "    </tr>\n",
       "    <tr>\n",
       "      <td>1</td>\n",
       "      <td>1</td>\n",
       "      <td>farmer_43804</td>\n",
       "      <td>2019-09-23 13:20:51</td>\n",
       "      <td>2019-09-23 13:20:51</td>\n",
       "      <td>1</td>\n",
       "      <td>2019-09-23 13:20:51</td>\n",
       "      <td>2019-09-23 13:20:51</td>\n",
       "      <td>2019-09-23 12:25:23</td>\n",
       "      <td>cbb</td>\n",
       "      <td>2019-09-23 12:23:23</td>\n",
       "      <td>The plant only had bbd</td>\n",
       "      <td>1136.199951</td>\n",
       "      <td>32.625030</td>\n",
       "      <td>0.521581</td>\n",
       "      <td>2019-09-23 00:00:00</td>\n",
       "      <td>97.296</td>\n",
       "    </tr>\n",
       "    <tr>\n",
       "      <td>2</td>\n",
       "      <td>2</td>\n",
       "      <td>farmer_43804</td>\n",
       "      <td>2019-09-26 04:21:28</td>\n",
       "      <td>2019-09-26 04:21:28</td>\n",
       "      <td>1</td>\n",
       "      <td>2019-09-26 04:21:28</td>\n",
       "      <td>2019-09-26 04:21:28</td>\n",
       "      <td>2019-09-23 12:23:17</td>\n",
       "      <td>cbsd</td>\n",
       "      <td>2019-09-23 12:21:23</td>\n",
       "      <td>This plant has brown strike</td>\n",
       "      <td>0.000000</td>\n",
       "      <td>32.626620</td>\n",
       "      <td>0.521104</td>\n",
       "      <td>2019-09-23 00:00:00</td>\n",
       "      <td>64.099</td>\n",
       "    </tr>\n",
       "    <tr>\n",
       "      <td>3</td>\n",
       "      <td>3</td>\n",
       "      <td>farmer_43804</td>\n",
       "      <td>2019-09-26 04:21:40</td>\n",
       "      <td>2019-09-26 04:21:40</td>\n",
       "      <td>1</td>\n",
       "      <td>2019-09-26 04:21:40</td>\n",
       "      <td>2019-09-26 04:21:40</td>\n",
       "      <td>2019-09-23 12:26:52</td>\n",
       "      <td>other</td>\n",
       "      <td>2019-09-23 12:25:35</td>\n",
       "      <td>Souit molls</td>\n",
       "      <td>0.000000</td>\n",
       "      <td>32.621843</td>\n",
       "      <td>0.533153</td>\n",
       "      <td>2019-09-23 00:00:00</td>\n",
       "      <td>2911.000</td>\n",
       "    </tr>\n",
       "    <tr>\n",
       "      <td>4</td>\n",
       "      <td>4</td>\n",
       "      <td>farmer_43804</td>\n",
       "      <td>2019-09-26 04:21:58</td>\n",
       "      <td>2019-09-26 04:21:58</td>\n",
       "      <td>1</td>\n",
       "      <td>2019-09-26 04:21:58</td>\n",
       "      <td>2019-09-26 04:21:58</td>\n",
       "      <td>2019-09-23 12:28:09</td>\n",
       "      <td>healthy</td>\n",
       "      <td>2019-09-23 12:27:14</td>\n",
       "      <td>This is a healthy planty</td>\n",
       "      <td>0.000000</td>\n",
       "      <td>32.621843</td>\n",
       "      <td>0.533153</td>\n",
       "      <td>2019-09-23 00:00:00</td>\n",
       "      <td>2911.000</td>\n",
       "    </tr>\n",
       "  </tbody>\n",
       "</table>\n",
       "</div>"
      ],
      "text/plain": [
       "   Unnamed: 0     FARMER_ID       _CREATION_DATE    _LAST_UPDATE_DATE  \\\n",
       "0           0  farmer_43804  2019-09-23 13:08:04  2019-09-23 13:08:04   \n",
       "1           1  farmer_43804  2019-09-23 13:20:51  2019-09-23 13:20:51   \n",
       "2           2  farmer_43804  2019-09-26 04:21:28  2019-09-26 04:21:28   \n",
       "3           3  farmer_43804  2019-09-26 04:21:40  2019-09-26 04:21:40   \n",
       "4           4  farmer_43804  2019-09-26 04:21:58  2019-09-26 04:21:58   \n",
       "\n",
       "   _IS_COMPLETE     _SUBMISSION_DATE _MARKED_AS_COMPLETE_DATE  \\\n",
       "0             1  2019-09-23 13:08:04      2019-09-23 13:08:04   \n",
       "1             1  2019-09-23 13:20:51      2019-09-23 13:20:51   \n",
       "2             1  2019-09-26 04:21:28      2019-09-26 04:21:28   \n",
       "3             1  2019-09-26 04:21:40      2019-09-26 04:21:40   \n",
       "4             1  2019-09-26 04:21:58      2019-09-26 04:21:58   \n",
       "\n",
       "  CASSAVA_DATA_END_TIME CASSAVA_DATA_CASSAVA_IMAGE_CLASS  \\\n",
       "0   2019-09-23 12:21:17                              cmd   \n",
       "1   2019-09-23 12:25:23                              cbb   \n",
       "2   2019-09-23 12:23:17                             cbsd   \n",
       "3   2019-09-23 12:26:52                            other   \n",
       "4   2019-09-23 12:28:09                          healthy   \n",
       "\n",
       "  CASSAVA_DATA_START_TIME             CASSAVA_DATA_CASSAVA_COMMENT  \\\n",
       "0     2019-09-23 12:18:46  This plant was planted when it was sick   \n",
       "1     2019-09-23 12:23:23                   The plant only had bbd   \n",
       "2     2019-09-23 12:21:23              This plant has brown strike   \n",
       "3     2019-09-23 12:25:35                              Souit molls   \n",
       "4     2019-09-23 12:27:14                 This is a healthy planty   \n",
       "\n",
       "   CASSAVA_DATA_CASSAVA_IMAGE_GPS_ALT  CASSAVA_DATA_CASSAVA_IMAGE_GPS_LNG  \\\n",
       "0                            0.000000                           32.624897   \n",
       "1                         1136.199951                           32.625030   \n",
       "2                            0.000000                           32.626620   \n",
       "3                            0.000000                           32.621843   \n",
       "4                            0.000000                           32.621843   \n",
       "\n",
       "   CASSAVA_DATA_CASSAVA_IMAGE_GPS_LAT CASSAVA_DATA_SUBMISSION_TIME  \\\n",
       "0                            0.521737          2019-09-23 00:00:00   \n",
       "1                            0.521581          2019-09-23 00:00:00   \n",
       "2                            0.521104          2019-09-23 00:00:00   \n",
       "3                            0.533153          2019-09-23 00:00:00   \n",
       "4                            0.533153          2019-09-23 00:00:00   \n",
       "\n",
       "   CASSAVA_DATA_CASSAVA_IMAGE_GPS_ACC  \n",
       "0                              92.900  \n",
       "1                              97.296  \n",
       "2                              64.099  \n",
       "3                            2911.000  \n",
       "4                            2911.000  "
      ]
     },
     "execution_count": 6,
     "metadata": {},
     "output_type": "execute_result"
    }
   ],
   "source": [
    "cassava_data.head()"
   ]
  },
  {
   "cell_type": "code",
   "execution_count": 7,
   "metadata": {},
   "outputs": [
    {
     "data": {
      "text/html": [
       "<div>\n",
       "<style scoped>\n",
       "    .dataframe tbody tr th:only-of-type {\n",
       "        vertical-align: middle;\n",
       "    }\n",
       "\n",
       "    .dataframe tbody tr th {\n",
       "        vertical-align: top;\n",
       "    }\n",
       "\n",
       "    .dataframe thead th {\n",
       "        text-align: right;\n",
       "    }\n",
       "</style>\n",
       "<table border=\"1\" class=\"dataframe\">\n",
       "  <thead>\n",
       "    <tr style=\"text-align: right;\">\n",
       "      <th></th>\n",
       "      <th>Unnamed: 0</th>\n",
       "      <th>FARMER_ID</th>\n",
       "      <th>_CREATION_DATE</th>\n",
       "      <th>_LAST_UPDATE_DATE</th>\n",
       "      <th>_IS_COMPLETE</th>\n",
       "      <th>_SUBMISSION_DATE</th>\n",
       "      <th>_MARKED_AS_COMPLETE_DATE</th>\n",
       "      <th>MAIZE_DATA_MAIZE_IMAGE_CLASS</th>\n",
       "      <th>MAIZE_DATA_SUBMISSION_TIME_RAW</th>\n",
       "      <th>MAIZE_DATA_START_TIME_RAW</th>\n",
       "      <th>MAIZE_DATA_SUBMISSION_TIME</th>\n",
       "      <th>MAIZE_DATA_MAIZE_IMAGE_GPS_ALT</th>\n",
       "      <th>MAIZE_DATA_END_TIME</th>\n",
       "      <th>MAIZE_DATA_END_TIME_RAW</th>\n",
       "      <th>MAIZE_DATA_MAIZE_COMMENT</th>\n",
       "      <th>MAIZE_DATA_MAIZE_IMAGE_GPS_LAT</th>\n",
       "      <th>MAIZE_DATA_MAIZE_IMAGE_GPS_ACC</th>\n",
       "      <th>MAIZE_DATA_START_TIME</th>\n",
       "      <th>MAIZE_DATA_MAIZE_IMAGE_GPS_LNG</th>\n",
       "    </tr>\n",
       "  </thead>\n",
       "  <tbody>\n",
       "    <tr>\n",
       "      <td>0</td>\n",
       "      <td>0</td>\n",
       "      <td>farmer_99268</td>\n",
       "      <td>2019-09-23 13:09:26.402000</td>\n",
       "      <td>2019-09-23 13:09:26.402000</td>\n",
       "      <td>1</td>\n",
       "      <td>2019-09-23 13:09:26.387000</td>\n",
       "      <td>2019-09-23 13:09:26.387000</td>\n",
       "      <td>faw</td>\n",
       "      <td>2019-09-23</td>\n",
       "      <td>2019-09-23T15:42:48.673+03</td>\n",
       "      <td>2019-09-23 00:00:00</td>\n",
       "      <td>1150.7</td>\n",
       "      <td>2019-09-23 12:44:28.381000</td>\n",
       "      <td>2019-09-23T15:44:28.381+03</td>\n",
       "      <td>Brown patches</td>\n",
       "      <td>0.521545</td>\n",
       "      <td>7.3</td>\n",
       "      <td>2019-09-23 12:42:48.673000</td>\n",
       "      <td>32.625263</td>\n",
       "    </tr>\n",
       "    <tr>\n",
       "      <td>1</td>\n",
       "      <td>1</td>\n",
       "      <td>farmer_99268</td>\n",
       "      <td>2019-10-05 04:38:02.817000</td>\n",
       "      <td>2019-10-05 04:38:02.817000</td>\n",
       "      <td>1</td>\n",
       "      <td>2019-10-05 04:38:02.806000</td>\n",
       "      <td>2019-10-05 04:38:02.806000</td>\n",
       "      <td>dsd_lf</td>\n",
       "      <td>2019-10-03</td>\n",
       "      <td>2019-10-03T00:55:50.046+03</td>\n",
       "      <td>2019-10-03 00:00:00</td>\n",
       "      <td>1263.5</td>\n",
       "      <td>2019-10-04 20:45:26.816000</td>\n",
       "      <td>2019-10-04T23:45:26.816+03</td>\n",
       "      <td>Whitesh patches</td>\n",
       "      <td>-0.379987</td>\n",
       "      <td>7.3</td>\n",
       "      <td>2019-10-02 21:55:50.046000</td>\n",
       "      <td>31.705856</td>\n",
       "    </tr>\n",
       "    <tr>\n",
       "      <td>2</td>\n",
       "      <td>2</td>\n",
       "      <td>farmer_99268</td>\n",
       "      <td>2019-10-05 04:38:12.526000</td>\n",
       "      <td>2019-10-05 04:38:12.526000</td>\n",
       "      <td>1</td>\n",
       "      <td>2019-10-05 04:38:12.514000</td>\n",
       "      <td>2019-10-05 04:38:12.514000</td>\n",
       "      <td>dsd_lf</td>\n",
       "      <td>2019-10-03</td>\n",
       "      <td>2019-10-03T07:55:18.218+03</td>\n",
       "      <td>2019-10-03 00:00:00</td>\n",
       "      <td>1263.5</td>\n",
       "      <td>2019-10-03 04:56:03.192000</td>\n",
       "      <td>2019-10-03T07:56:03.192+03</td>\n",
       "      <td>Whitesh patches</td>\n",
       "      <td>-0.380017</td>\n",
       "      <td>7.3</td>\n",
       "      <td>2019-10-03 04:55:18.218000</td>\n",
       "      <td>31.705866</td>\n",
       "    </tr>\n",
       "    <tr>\n",
       "      <td>3</td>\n",
       "      <td>3</td>\n",
       "      <td>farmer_99268</td>\n",
       "      <td>2019-10-05 04:38:23.439000</td>\n",
       "      <td>2019-10-05 04:38:23.439000</td>\n",
       "      <td>1</td>\n",
       "      <td>2019-10-05 04:38:23.434000</td>\n",
       "      <td>2019-10-05 04:38:23.434000</td>\n",
       "      <td>faw</td>\n",
       "      <td>2019-10-03</td>\n",
       "      <td>2019-10-03T07:56:16.285+03</td>\n",
       "      <td>2019-10-03 00:00:00</td>\n",
       "      <td>1263.5</td>\n",
       "      <td>2019-10-03 04:58:05.185000</td>\n",
       "      <td>2019-10-03T07:58:05.185+03</td>\n",
       "      <td>Shoot and leaves are affected by the disease</td>\n",
       "      <td>-0.380051</td>\n",
       "      <td>7.3</td>\n",
       "      <td>2019-10-03 04:56:16.285000</td>\n",
       "      <td>31.705885</td>\n",
       "    </tr>\n",
       "    <tr>\n",
       "      <td>4</td>\n",
       "      <td>4</td>\n",
       "      <td>farmer_99268</td>\n",
       "      <td>2019-10-05 04:38:34.168000</td>\n",
       "      <td>2019-10-05 04:38:34.168000</td>\n",
       "      <td>1</td>\n",
       "      <td>2019-10-05 04:38:34.162000</td>\n",
       "      <td>2019-10-05 04:38:34.162000</td>\n",
       "      <td>faw</td>\n",
       "      <td>2019-10-03</td>\n",
       "      <td>2019-10-03T07:58:53.574+03</td>\n",
       "      <td>2019-10-03 00:00:00</td>\n",
       "      <td>1263.1</td>\n",
       "      <td>2019-10-03 04:59:38.205000</td>\n",
       "      <td>2019-10-03T07:59:38.205+03</td>\n",
       "      <td>Shoot and leaves are affected by the disease</td>\n",
       "      <td>-0.379993</td>\n",
       "      <td>7.3</td>\n",
       "      <td>2019-10-03 04:58:53.574000</td>\n",
       "      <td>31.705823</td>\n",
       "    </tr>\n",
       "  </tbody>\n",
       "</table>\n",
       "</div>"
      ],
      "text/plain": [
       "   Unnamed: 0     FARMER_ID              _CREATION_DATE  \\\n",
       "0           0  farmer_99268  2019-09-23 13:09:26.402000   \n",
       "1           1  farmer_99268  2019-10-05 04:38:02.817000   \n",
       "2           2  farmer_99268  2019-10-05 04:38:12.526000   \n",
       "3           3  farmer_99268  2019-10-05 04:38:23.439000   \n",
       "4           4  farmer_99268  2019-10-05 04:38:34.168000   \n",
       "\n",
       "            _LAST_UPDATE_DATE  _IS_COMPLETE            _SUBMISSION_DATE  \\\n",
       "0  2019-09-23 13:09:26.402000             1  2019-09-23 13:09:26.387000   \n",
       "1  2019-10-05 04:38:02.817000             1  2019-10-05 04:38:02.806000   \n",
       "2  2019-10-05 04:38:12.526000             1  2019-10-05 04:38:12.514000   \n",
       "3  2019-10-05 04:38:23.439000             1  2019-10-05 04:38:23.434000   \n",
       "4  2019-10-05 04:38:34.168000             1  2019-10-05 04:38:34.162000   \n",
       "\n",
       "     _MARKED_AS_COMPLETE_DATE MAIZE_DATA_MAIZE_IMAGE_CLASS  \\\n",
       "0  2019-09-23 13:09:26.387000                          faw   \n",
       "1  2019-10-05 04:38:02.806000                       dsd_lf   \n",
       "2  2019-10-05 04:38:12.514000                       dsd_lf   \n",
       "3  2019-10-05 04:38:23.434000                          faw   \n",
       "4  2019-10-05 04:38:34.162000                          faw   \n",
       "\n",
       "  MAIZE_DATA_SUBMISSION_TIME_RAW   MAIZE_DATA_START_TIME_RAW  \\\n",
       "0                     2019-09-23  2019-09-23T15:42:48.673+03   \n",
       "1                     2019-10-03  2019-10-03T00:55:50.046+03   \n",
       "2                     2019-10-03  2019-10-03T07:55:18.218+03   \n",
       "3                     2019-10-03  2019-10-03T07:56:16.285+03   \n",
       "4                     2019-10-03  2019-10-03T07:58:53.574+03   \n",
       "\n",
       "  MAIZE_DATA_SUBMISSION_TIME  MAIZE_DATA_MAIZE_IMAGE_GPS_ALT  \\\n",
       "0        2019-09-23 00:00:00                          1150.7   \n",
       "1        2019-10-03 00:00:00                          1263.5   \n",
       "2        2019-10-03 00:00:00                          1263.5   \n",
       "3        2019-10-03 00:00:00                          1263.5   \n",
       "4        2019-10-03 00:00:00                          1263.1   \n",
       "\n",
       "          MAIZE_DATA_END_TIME     MAIZE_DATA_END_TIME_RAW  \\\n",
       "0  2019-09-23 12:44:28.381000  2019-09-23T15:44:28.381+03   \n",
       "1  2019-10-04 20:45:26.816000  2019-10-04T23:45:26.816+03   \n",
       "2  2019-10-03 04:56:03.192000  2019-10-03T07:56:03.192+03   \n",
       "3  2019-10-03 04:58:05.185000  2019-10-03T07:58:05.185+03   \n",
       "4  2019-10-03 04:59:38.205000  2019-10-03T07:59:38.205+03   \n",
       "\n",
       "                       MAIZE_DATA_MAIZE_COMMENT  \\\n",
       "0                                 Brown patches   \n",
       "1                               Whitesh patches   \n",
       "2                               Whitesh patches   \n",
       "3  Shoot and leaves are affected by the disease   \n",
       "4  Shoot and leaves are affected by the disease   \n",
       "\n",
       "   MAIZE_DATA_MAIZE_IMAGE_GPS_LAT  MAIZE_DATA_MAIZE_IMAGE_GPS_ACC  \\\n",
       "0                        0.521545                             7.3   \n",
       "1                       -0.379987                             7.3   \n",
       "2                       -0.380017                             7.3   \n",
       "3                       -0.380051                             7.3   \n",
       "4                       -0.379993                             7.3   \n",
       "\n",
       "        MAIZE_DATA_START_TIME  MAIZE_DATA_MAIZE_IMAGE_GPS_LNG  \n",
       "0  2019-09-23 12:42:48.673000                       32.625263  \n",
       "1  2019-10-02 21:55:50.046000                       31.705856  \n",
       "2  2019-10-03 04:55:18.218000                       31.705866  \n",
       "3  2019-10-03 04:56:16.285000                       31.705885  \n",
       "4  2019-10-03 04:58:53.574000                       31.705823  "
      ]
     },
     "execution_count": 7,
     "metadata": {},
     "output_type": "execute_result"
    }
   ],
   "source": [
    "maize_data.head()"
   ]
  },
  {
   "cell_type": "markdown",
   "metadata": {},
   "source": [
    "### Data Cleaning & Preprocessing\n",
    "\n",
    "Preparing the data for analysis."
   ]
  },
  {
   "cell_type": "code",
   "execution_count": 8,
   "metadata": {},
   "outputs": [
    {
     "data": {
      "text/plain": [
       "(130, 6)"
      ]
     },
     "execution_count": 8,
     "metadata": {},
     "output_type": "execute_result"
    }
   ],
   "source": [
    "# Number of farmers in dataset\n",
    "farmers_data.shape"
   ]
  },
  {
   "cell_type": "code",
   "execution_count": 9,
   "metadata": {},
   "outputs": [
    {
     "data": {
      "text/plain": [
       "127"
      ]
     },
     "execution_count": 9,
     "metadata": {},
     "output_type": "execute_result"
    }
   ],
   "source": [
    "# Number of unique farmers\n",
    "farmers_data.Farmer_ID.nunique()"
   ]
  },
  {
   "cell_type": "code",
   "execution_count": 10,
   "metadata": {},
   "outputs": [
    {
     "data": {
      "text/plain": [
       "farmer_41600    2\n",
       "farmer_70173    2\n",
       "farmer_94435    2\n",
       "Name: Farmer_ID, dtype: int64"
      ]
     },
     "execution_count": 10,
     "metadata": {},
     "output_type": "execute_result"
    }
   ],
   "source": [
    "# Non-unique farmer ID(s)\n",
    "xx = farmers_data.Farmer_ID.value_counts()\n",
    "yy = xx > 1 # Farmer_IDs that appear more than once.\n",
    "xx[yy]"
   ]
  },
  {
   "cell_type": "code",
   "execution_count": 11,
   "metadata": {},
   "outputs": [
    {
     "data": {
      "text/plain": [
       "['farmer_41600', 'farmer_70173', 'farmer_94435']"
      ]
     },
     "execution_count": 11,
     "metadata": {},
     "output_type": "execute_result"
    }
   ],
   "source": [
    "duplicated_ids = xx[yy].index.to_list() # index to list\n",
    "duplicated_ids"
   ]
  },
  {
   "cell_type": "code",
   "execution_count": 12,
   "metadata": {},
   "outputs": [
    {
     "data": {
      "text/html": [
       "<div>\n",
       "<style scoped>\n",
       "    .dataframe tbody tr th:only-of-type {\n",
       "        vertical-align: middle;\n",
       "    }\n",
       "\n",
       "    .dataframe tbody tr th {\n",
       "        vertical-align: top;\n",
       "    }\n",
       "\n",
       "    .dataframe thead th {\n",
       "        text-align: right;\n",
       "    }\n",
       "</style>\n",
       "<table border=\"1\" class=\"dataframe\">\n",
       "  <thead>\n",
       "    <tr style=\"text-align: right;\">\n",
       "      <th></th>\n",
       "      <th>Unnamed: 0</th>\n",
       "      <th>Farmer_ID</th>\n",
       "      <th>Gender</th>\n",
       "      <th>District</th>\n",
       "      <th>SubCounty</th>\n",
       "      <th>County/Village</th>\n",
       "    </tr>\n",
       "  </thead>\n",
       "  <tbody>\n",
       "    <tr>\n",
       "      <td>28</td>\n",
       "      <td>28</td>\n",
       "      <td>farmer_94435</td>\n",
       "      <td>Male</td>\n",
       "      <td>Mayuge</td>\n",
       "      <td>Kigandaalo</td>\n",
       "      <td>Naijeria</td>\n",
       "    </tr>\n",
       "    <tr>\n",
       "      <td>29</td>\n",
       "      <td>29</td>\n",
       "      <td>farmer_94435</td>\n",
       "      <td>Male</td>\n",
       "      <td>Mayuge</td>\n",
       "      <td>Kigandaalo</td>\n",
       "      <td>Bugondo</td>\n",
       "    </tr>\n",
       "    <tr>\n",
       "      <td>80</td>\n",
       "      <td>90</td>\n",
       "      <td>farmer_41600</td>\n",
       "      <td>Male</td>\n",
       "      <td>NaN</td>\n",
       "      <td>NaN</td>\n",
       "      <td>NaN</td>\n",
       "    </tr>\n",
       "    <tr>\n",
       "      <td>83</td>\n",
       "      <td>93</td>\n",
       "      <td>farmer_41600</td>\n",
       "      <td>Male</td>\n",
       "      <td>Amolatar</td>\n",
       "      <td>NaN</td>\n",
       "      <td>NaN</td>\n",
       "    </tr>\n",
       "    <tr>\n",
       "      <td>95</td>\n",
       "      <td>106</td>\n",
       "      <td>farmer_70173</td>\n",
       "      <td>Male</td>\n",
       "      <td>NaN</td>\n",
       "      <td>NaN</td>\n",
       "      <td>NaN</td>\n",
       "    </tr>\n",
       "    <tr>\n",
       "      <td>97</td>\n",
       "      <td>116</td>\n",
       "      <td>farmer_70173</td>\n",
       "      <td>Male</td>\n",
       "      <td>Oyam</td>\n",
       "      <td>NaN</td>\n",
       "      <td>NaN</td>\n",
       "    </tr>\n",
       "  </tbody>\n",
       "</table>\n",
       "</div>"
      ],
      "text/plain": [
       "    Unnamed: 0     Farmer_ID Gender  District   SubCounty County/Village\n",
       "28          28  farmer_94435   Male    Mayuge  Kigandaalo       Naijeria\n",
       "29          29  farmer_94435   Male    Mayuge  Kigandaalo        Bugondo\n",
       "80          90  farmer_41600   Male       NaN         NaN            NaN\n",
       "83          93  farmer_41600   Male  Amolatar         NaN            NaN\n",
       "95         106  farmer_70173   Male       NaN         NaN            NaN\n",
       "97         116  farmer_70173   Male      Oyam         NaN            NaN"
      ]
     },
     "execution_count": 12,
     "metadata": {},
     "output_type": "execute_result"
    }
   ],
   "source": [
    "x = farmers_data['Farmer_ID'] == 'farmer_70173'\n",
    "y = farmers_data['Farmer_ID'] == 'farmer_41600'\n",
    "z = farmers_data['Farmer_ID'] == 'farmer_94435'\n",
    "\n",
    "df1 = pd.DataFrame([x, y, z])\n",
    "farmers_data.loc[list(df1.any()),] # A look at the duplicate farmer IDs"
   ]
  },
  {
   "cell_type": "markdown",
   "metadata": {},
   "source": [
    "Cleaning Criteria:\n",
    "- Drop duplicates with least information, the first ones."
   ]
  },
  {
   "cell_type": "code",
   "execution_count": 13,
   "metadata": {},
   "outputs": [
    {
     "data": {
      "text/plain": [
       "Index(['Unnamed: 0', 'Farmer_ID', 'Gender', 'District', 'SubCounty',\n",
       "       'County/Village'],\n",
       "      dtype='object')"
      ]
     },
     "execution_count": 13,
     "metadata": {},
     "output_type": "execute_result"
    }
   ],
   "source": [
    "farmers_data.columns"
   ]
  },
  {
   "cell_type": "code",
   "execution_count": 14,
   "metadata": {
    "scrolled": true
   },
   "outputs": [],
   "source": [
    "updated_farmers_data = farmers_data.drop_duplicates('Farmer_ID', keep='last')"
   ]
  },
  {
   "cell_type": "code",
   "execution_count": 15,
   "metadata": {},
   "outputs": [
    {
     "data": {
      "text/plain": [
       "127"
      ]
     },
     "execution_count": 15,
     "metadata": {},
     "output_type": "execute_result"
    }
   ],
   "source": [
    "updated_farmers_data.Farmer_ID.nunique()"
   ]
  },
  {
   "cell_type": "code",
   "execution_count": 16,
   "metadata": {},
   "outputs": [
    {
     "data": {
      "text/plain": [
       "Series([], Name: Farmer_ID, dtype: int64)"
      ]
     },
     "execution_count": 16,
     "metadata": {},
     "output_type": "execute_result"
    }
   ],
   "source": [
    "xxx = updated_farmers_data.Farmer_ID.value_counts()\n",
    "yyy = xxx > 1 # Farmer_IDs that appear more than once.\n",
    "xxx[yyy] # All IDs are unique"
   ]
  },
  {
   "cell_type": "code",
   "execution_count": 17,
   "metadata": {},
   "outputs": [
    {
     "data": {
      "text/html": [
       "<div>\n",
       "<style scoped>\n",
       "    .dataframe tbody tr th:only-of-type {\n",
       "        vertical-align: middle;\n",
       "    }\n",
       "\n",
       "    .dataframe tbody tr th {\n",
       "        vertical-align: top;\n",
       "    }\n",
       "\n",
       "    .dataframe thead th {\n",
       "        text-align: right;\n",
       "    }\n",
       "</style>\n",
       "<table border=\"1\" class=\"dataframe\">\n",
       "  <thead>\n",
       "    <tr style=\"text-align: right;\">\n",
       "      <th></th>\n",
       "      <th>Unnamed: 0</th>\n",
       "      <th>Farmer_ID</th>\n",
       "      <th>Gender</th>\n",
       "      <th>District</th>\n",
       "      <th>SubCounty</th>\n",
       "      <th>County/Village</th>\n",
       "    </tr>\n",
       "  </thead>\n",
       "  <tbody>\n",
       "    <tr>\n",
       "      <td>29</td>\n",
       "      <td>29</td>\n",
       "      <td>farmer_94435</td>\n",
       "      <td>Male</td>\n",
       "      <td>Mayuge</td>\n",
       "      <td>Kigandaalo</td>\n",
       "      <td>Bugondo</td>\n",
       "    </tr>\n",
       "    <tr>\n",
       "      <td>83</td>\n",
       "      <td>93</td>\n",
       "      <td>farmer_41600</td>\n",
       "      <td>Male</td>\n",
       "      <td>Amolatar</td>\n",
       "      <td>NaN</td>\n",
       "      <td>NaN</td>\n",
       "    </tr>\n",
       "    <tr>\n",
       "      <td>97</td>\n",
       "      <td>116</td>\n",
       "      <td>farmer_70173</td>\n",
       "      <td>Male</td>\n",
       "      <td>Oyam</td>\n",
       "      <td>NaN</td>\n",
       "      <td>NaN</td>\n",
       "    </tr>\n",
       "  </tbody>\n",
       "</table>\n",
       "</div>"
      ],
      "text/plain": [
       "    Unnamed: 0     Farmer_ID Gender  District   SubCounty County/Village\n",
       "29          29  farmer_94435   Male    Mayuge  Kigandaalo        Bugondo\n",
       "83          93  farmer_41600   Male  Amolatar         NaN            NaN\n",
       "97         116  farmer_70173   Male      Oyam         NaN            NaN"
      ]
     },
     "execution_count": 17,
     "metadata": {},
     "output_type": "execute_result"
    }
   ],
   "source": [
    "a = updated_farmers_data['Farmer_ID'] == 'farmer_70173'\n",
    "b = updated_farmers_data['Farmer_ID'] == 'farmer_41600'\n",
    "c = updated_farmers_data['Farmer_ID'] == 'farmer_94435'\n",
    "\n",
    "df2 = pd.DataFrame([a, b, c])\n",
    "updated_farmers_data.loc[list(df2.any()),] # kept the last entries"
   ]
  },
  {
   "cell_type": "code",
   "execution_count": 18,
   "metadata": {},
   "outputs": [
    {
     "name": "stderr",
     "output_type": "stream",
     "text": [
      "/home/bomera/anaconda3/lib/python3.7/site-packages/pandas/core/frame.py:4102: SettingWithCopyWarning: \n",
      "A value is trying to be set on a copy of a slice from a DataFrame\n",
      "\n",
      "See the caveats in the documentation: http://pandas.pydata.org/pandas-docs/stable/user_guide/indexing.html#returning-a-view-versus-a-copy\n",
      "  errors=errors,\n"
     ]
    }
   ],
   "source": [
    "# Drop Unnamed: 0 column\n",
    "for dataframe in ((updated_farmers_data, cassava_data, maize_data, beans_data)):\n",
    "    dataframe.drop(\"Unnamed: 0\", axis=1, inplace=True)"
   ]
  },
  {
   "cell_type": "code",
   "execution_count": 19,
   "metadata": {},
   "outputs": [
    {
     "data": {
      "text/plain": [
       "Index(['Farmer_ID', 'Gender', 'District', 'SubCounty', 'County/Village'], dtype='object')"
      ]
     },
     "execution_count": 19,
     "metadata": {},
     "output_type": "execute_result"
    }
   ],
   "source": [
    "updated_farmers_data.columns"
   ]
  },
  {
   "cell_type": "code",
   "execution_count": 20,
   "metadata": {
    "scrolled": false
   },
   "outputs": [
    {
     "data": {
      "text/plain": [
       "Index(['FARMER_ID', '_CREATION_DATE', '_LAST_UPDATE_DATE', '_IS_COMPLETE',\n",
       "       '_SUBMISSION_DATE', '_MARKED_AS_COMPLETE_DATE', 'CASSAVA_DATA_END_TIME',\n",
       "       'CASSAVA_DATA_CASSAVA_IMAGE_CLASS', 'CASSAVA_DATA_START_TIME',\n",
       "       'CASSAVA_DATA_CASSAVA_COMMENT', 'CASSAVA_DATA_CASSAVA_IMAGE_GPS_ALT',\n",
       "       'CASSAVA_DATA_CASSAVA_IMAGE_GPS_LNG',\n",
       "       'CASSAVA_DATA_CASSAVA_IMAGE_GPS_LAT', 'CASSAVA_DATA_SUBMISSION_TIME',\n",
       "       'CASSAVA_DATA_CASSAVA_IMAGE_GPS_ACC'],\n",
       "      dtype='object')"
      ]
     },
     "execution_count": 20,
     "metadata": {},
     "output_type": "execute_result"
    }
   ],
   "source": [
    "cassava_data.columns"
   ]
  },
  {
   "cell_type": "code",
   "execution_count": 21,
   "metadata": {
    "scrolled": true
   },
   "outputs": [
    {
     "data": {
      "text/plain": [
       "Index(['FARMER_ID', '_CREATION_DATE', '_LAST_UPDATE_DATE', '_IS_COMPLETE',\n",
       "       '_SUBMISSION_DATE', '_MARKED_AS_COMPLETE_DATE', 'BEAN_DATA_END_TIME',\n",
       "       'BEAN_DATA_BEAN_VARIETY', 'BEAN_DATA_BEAN_IMAGE_GPS_LNG',\n",
       "       'BEAN_DATA_BEAN_IMAGE_GPS_ALT', 'BEAN_DATA_IMAGE_CLASS',\n",
       "       'BEAN_DATA_BEAN_COMMENT', 'BEAN_DATA_BEAN_IMAGE_GPS_ACC',\n",
       "       'BEAN_DATA_SUBMISSION_TIME', 'BEAN_DATA_BEAN_IMAGE_GPS_LAT',\n",
       "       'BEAN_DATA_START_TIME'],\n",
       "      dtype='object')"
      ]
     },
     "execution_count": 21,
     "metadata": {},
     "output_type": "execute_result"
    }
   ],
   "source": [
    "beans_data.columns"
   ]
  },
  {
   "cell_type": "code",
   "execution_count": 22,
   "metadata": {
    "scrolled": true
   },
   "outputs": [
    {
     "data": {
      "text/plain": [
       "(53248, 15)"
      ]
     },
     "execution_count": 22,
     "metadata": {},
     "output_type": "execute_result"
    }
   ],
   "source": [
    "cassava_data.shape"
   ]
  },
  {
   "cell_type": "code",
   "execution_count": 23,
   "metadata": {
    "scrolled": true
   },
   "outputs": [
    {
     "data": {
      "text/plain": [
       "(10854, 16)"
      ]
     },
     "execution_count": 23,
     "metadata": {},
     "output_type": "execute_result"
    }
   ],
   "source": [
    "beans_data.shape"
   ]
  },
  {
   "cell_type": "code",
   "execution_count": 24,
   "metadata": {},
   "outputs": [
    {
     "data": {
      "text/plain": [
       "(51569, 18)"
      ]
     },
     "execution_count": 24,
     "metadata": {},
     "output_type": "execute_result"
    }
   ],
   "source": [
    "maize_data.shape"
   ]
  },
  {
   "cell_type": "code",
   "execution_count": 25,
   "metadata": {},
   "outputs": [],
   "source": [
    "# Series Data containing only farmer ID data\n",
    "cassava_series, beans_series, maize_series = cassava_data.FARMER_ID, beans_data.FARMER_ID, maize_data.FARMER_ID\n",
    "# cassava_series\n",
    "\n",
    "# concatenation\n",
    "combined_submissions = pd.concat([cassava_series, beans_series, maize_series], ignore_index=True)\n",
    "combined_submissions = pd.DataFrame(combined_submissions)"
   ]
  },
  {
   "cell_type": "code",
   "execution_count": 26,
   "metadata": {
    "scrolled": true
   },
   "outputs": [
    {
     "data": {
      "text/html": [
       "<div>\n",
       "<style scoped>\n",
       "    .dataframe tbody tr th:only-of-type {\n",
       "        vertical-align: middle;\n",
       "    }\n",
       "\n",
       "    .dataframe tbody tr th {\n",
       "        vertical-align: top;\n",
       "    }\n",
       "\n",
       "    .dataframe thead th {\n",
       "        text-align: right;\n",
       "    }\n",
       "</style>\n",
       "<table border=\"1\" class=\"dataframe\">\n",
       "  <thead>\n",
       "    <tr style=\"text-align: right;\">\n",
       "      <th></th>\n",
       "      <th>FARMER_ID</th>\n",
       "    </tr>\n",
       "  </thead>\n",
       "  <tbody>\n",
       "    <tr>\n",
       "      <td>0</td>\n",
       "      <td>farmer_43804</td>\n",
       "    </tr>\n",
       "    <tr>\n",
       "      <td>1</td>\n",
       "      <td>farmer_43804</td>\n",
       "    </tr>\n",
       "    <tr>\n",
       "      <td>2</td>\n",
       "      <td>farmer_43804</td>\n",
       "    </tr>\n",
       "    <tr>\n",
       "      <td>3</td>\n",
       "      <td>farmer_43804</td>\n",
       "    </tr>\n",
       "    <tr>\n",
       "      <td>4</td>\n",
       "      <td>farmer_43804</td>\n",
       "    </tr>\n",
       "  </tbody>\n",
       "</table>\n",
       "</div>"
      ],
      "text/plain": [
       "      FARMER_ID\n",
       "0  farmer_43804\n",
       "1  farmer_43804\n",
       "2  farmer_43804\n",
       "3  farmer_43804\n",
       "4  farmer_43804"
      ]
     },
     "execution_count": 26,
     "metadata": {},
     "output_type": "execute_result"
    }
   ],
   "source": [
    "combined_submissions.head()"
   ]
  },
  {
   "cell_type": "code",
   "execution_count": 27,
   "metadata": {},
   "outputs": [
    {
     "data": {
      "text/plain": [
       "(115671, 1)"
      ]
     },
     "execution_count": 27,
     "metadata": {},
     "output_type": "execute_result"
    }
   ],
   "source": [
    "combined_submissions.shape"
   ]
  },
  {
   "cell_type": "code",
   "execution_count": 28,
   "metadata": {
    "scrolled": false
   },
   "outputs": [
    {
     "data": {
      "text/html": [
       "<div>\n",
       "<style scoped>\n",
       "    .dataframe tbody tr th:only-of-type {\n",
       "        vertical-align: middle;\n",
       "    }\n",
       "\n",
       "    .dataframe tbody tr th {\n",
       "        vertical-align: top;\n",
       "    }\n",
       "\n",
       "    .dataframe thead th {\n",
       "        text-align: right;\n",
       "    }\n",
       "</style>\n",
       "<table border=\"1\" class=\"dataframe\">\n",
       "  <thead>\n",
       "    <tr style=\"text-align: right;\">\n",
       "      <th></th>\n",
       "      <th>Farmer_ID</th>\n",
       "      <th>Gender</th>\n",
       "      <th>District</th>\n",
       "      <th>SubCounty</th>\n",
       "      <th>County/Village</th>\n",
       "      <th>FARMER_ID</th>\n",
       "    </tr>\n",
       "  </thead>\n",
       "  <tbody>\n",
       "    <tr>\n",
       "      <td>0</td>\n",
       "      <td>farmer_26595</td>\n",
       "      <td>Female</td>\n",
       "      <td>Kamuli</td>\n",
       "      <td>NaN</td>\n",
       "      <td>NaN</td>\n",
       "      <td>NaN</td>\n",
       "    </tr>\n",
       "    <tr>\n",
       "      <td>1</td>\n",
       "      <td>farmer_85867</td>\n",
       "      <td>Female</td>\n",
       "      <td>Nakasongola</td>\n",
       "      <td>Nabiswera</td>\n",
       "      <td>Nabiswera</td>\n",
       "      <td>farmer_85867</td>\n",
       "    </tr>\n",
       "    <tr>\n",
       "      <td>2</td>\n",
       "      <td>farmer_85867</td>\n",
       "      <td>Female</td>\n",
       "      <td>Nakasongola</td>\n",
       "      <td>Nabiswera</td>\n",
       "      <td>Nabiswera</td>\n",
       "      <td>farmer_85867</td>\n",
       "    </tr>\n",
       "    <tr>\n",
       "      <td>3</td>\n",
       "      <td>farmer_85867</td>\n",
       "      <td>Female</td>\n",
       "      <td>Nakasongola</td>\n",
       "      <td>Nabiswera</td>\n",
       "      <td>Nabiswera</td>\n",
       "      <td>farmer_85867</td>\n",
       "    </tr>\n",
       "    <tr>\n",
       "      <td>4</td>\n",
       "      <td>farmer_85867</td>\n",
       "      <td>Female</td>\n",
       "      <td>Nakasongola</td>\n",
       "      <td>Nabiswera</td>\n",
       "      <td>Nabiswera</td>\n",
       "      <td>farmer_85867</td>\n",
       "    </tr>\n",
       "  </tbody>\n",
       "</table>\n",
       "</div>"
      ],
      "text/plain": [
       "      Farmer_ID  Gender     District  SubCounty County/Village     FARMER_ID\n",
       "0  farmer_26595  Female       Kamuli        NaN            NaN           NaN\n",
       "1  farmer_85867  Female  Nakasongola  Nabiswera      Nabiswera  farmer_85867\n",
       "2  farmer_85867  Female  Nakasongola  Nabiswera      Nabiswera  farmer_85867\n",
       "3  farmer_85867  Female  Nakasongola  Nabiswera      Nabiswera  farmer_85867\n",
       "4  farmer_85867  Female  Nakasongola  Nabiswera      Nabiswera  farmer_85867"
      ]
     },
     "execution_count": 28,
     "metadata": {},
     "output_type": "execute_result"
    }
   ],
   "source": [
    "# Returns all records with NaN for missing matches\n",
    "combined_data_outer = pd.merge(updated_farmers_data, combined_submissions, \n",
    "                         left_on=\"Farmer_ID\", right_on=\"FARMER_ID\", \n",
    "                         how=\"outer\")\n",
    "combined_data_outer.head()"
   ]
  },
  {
   "cell_type": "code",
   "execution_count": 29,
   "metadata": {
    "scrolled": false
   },
   "outputs": [
    {
     "data": {
      "text/html": [
       "<div>\n",
       "<style scoped>\n",
       "    .dataframe tbody tr th:only-of-type {\n",
       "        vertical-align: middle;\n",
       "    }\n",
       "\n",
       "    .dataframe tbody tr th {\n",
       "        vertical-align: top;\n",
       "    }\n",
       "\n",
       "    .dataframe thead th {\n",
       "        text-align: right;\n",
       "    }\n",
       "</style>\n",
       "<table border=\"1\" class=\"dataframe\">\n",
       "  <thead>\n",
       "    <tr style=\"text-align: right;\">\n",
       "      <th></th>\n",
       "      <th>Farmer_ID</th>\n",
       "      <th>Gender</th>\n",
       "      <th>District</th>\n",
       "      <th>SubCounty</th>\n",
       "      <th>County/Village</th>\n",
       "      <th>FARMER_ID</th>\n",
       "    </tr>\n",
       "  </thead>\n",
       "  <tbody>\n",
       "    <tr>\n",
       "      <td>0</td>\n",
       "      <td>farmer_85867</td>\n",
       "      <td>Female</td>\n",
       "      <td>Nakasongola</td>\n",
       "      <td>Nabiswera</td>\n",
       "      <td>Nabiswera</td>\n",
       "      <td>farmer_85867</td>\n",
       "    </tr>\n",
       "    <tr>\n",
       "      <td>1</td>\n",
       "      <td>farmer_85867</td>\n",
       "      <td>Female</td>\n",
       "      <td>Nakasongola</td>\n",
       "      <td>Nabiswera</td>\n",
       "      <td>Nabiswera</td>\n",
       "      <td>farmer_85867</td>\n",
       "    </tr>\n",
       "    <tr>\n",
       "      <td>2</td>\n",
       "      <td>farmer_85867</td>\n",
       "      <td>Female</td>\n",
       "      <td>Nakasongola</td>\n",
       "      <td>Nabiswera</td>\n",
       "      <td>Nabiswera</td>\n",
       "      <td>farmer_85867</td>\n",
       "    </tr>\n",
       "    <tr>\n",
       "      <td>3</td>\n",
       "      <td>farmer_85867</td>\n",
       "      <td>Female</td>\n",
       "      <td>Nakasongola</td>\n",
       "      <td>Nabiswera</td>\n",
       "      <td>Nabiswera</td>\n",
       "      <td>farmer_85867</td>\n",
       "    </tr>\n",
       "    <tr>\n",
       "      <td>4</td>\n",
       "      <td>farmer_85867</td>\n",
       "      <td>Female</td>\n",
       "      <td>Nakasongola</td>\n",
       "      <td>Nabiswera</td>\n",
       "      <td>Nabiswera</td>\n",
       "      <td>farmer_85867</td>\n",
       "    </tr>\n",
       "  </tbody>\n",
       "</table>\n",
       "</div>"
      ],
      "text/plain": [
       "      Farmer_ID  Gender     District  SubCounty County/Village     FARMER_ID\n",
       "0  farmer_85867  Female  Nakasongola  Nabiswera      Nabiswera  farmer_85867\n",
       "1  farmer_85867  Female  Nakasongola  Nabiswera      Nabiswera  farmer_85867\n",
       "2  farmer_85867  Female  Nakasongola  Nabiswera      Nabiswera  farmer_85867\n",
       "3  farmer_85867  Female  Nakasongola  Nabiswera      Nabiswera  farmer_85867\n",
       "4  farmer_85867  Female  Nakasongola  Nabiswera      Nabiswera  farmer_85867"
      ]
     },
     "execution_count": 29,
     "metadata": {},
     "output_type": "execute_result"
    }
   ],
   "source": [
    "# Returns submissions with farmer IDs in both datasets.\n",
    "combined_data_inner = pd.merge(updated_farmers_data, combined_submissions,\n",
    "                               left_on=\"Farmer_ID\", right_on=\"FARMER_ID\", \n",
    "                               how=\"inner\")\n",
    "combined_data_inner.head()"
   ]
  },
  {
   "cell_type": "code",
   "execution_count": 30,
   "metadata": {},
   "outputs": [
    {
     "data": {
      "text/plain": [
       "32"
      ]
     },
     "execution_count": 30,
     "metadata": {},
     "output_type": "execute_result"
    }
   ],
   "source": [
    "# Farmer IDs missing in either the farmers or the submissions datasets\n",
    "combined_data_outer.shape[0] - combined_data_inner.shape[0] "
   ]
  },
  {
   "cell_type": "code",
   "execution_count": 31,
   "metadata": {
    "scrolled": false
   },
   "outputs": [
    {
     "data": {
      "text/plain": [
       "Series([], Name: FARMER_ID, dtype: object)"
      ]
     },
     "execution_count": 31,
     "metadata": {},
     "output_type": "execute_result"
    }
   ],
   "source": [
    "submissions_missing_ids = combined_data_outer.loc[combined_data_outer.Farmer_ID.isnull(), \"FARMER_ID\"]\n",
    "submissions_missing_ids # -> None"
   ]
  },
  {
   "cell_type": "code",
   "execution_count": 32,
   "metadata": {},
   "outputs": [
    {
     "data": {
      "text/plain": [
       "32"
      ]
     },
     "execution_count": 32,
     "metadata": {},
     "output_type": "execute_result"
    }
   ],
   "source": [
    "farmers_without_submissions = combined_data_outer.loc[combined_data_outer.FARMER_ID.isnull(), \"Farmer_ID\"]\n",
    "len(farmers_without_submissions) # -> 32 farmers"
   ]
  },
  {
   "cell_type": "markdown",
   "metadata": {},
   "source": [
    "Cleaning Summary:\n",
    "-  **3** duplicate farmer ID entries removed from the farmers datasets.\n",
    "- unnamed: 0 column dropped\n",
    "- **32** farmers in the dataset have no submissions."
   ]
  },
  {
   "cell_type": "markdown",
   "metadata": {},
   "source": [
    "## 1. Gender representation (Number of male and female farmers in the data)"
   ]
  },
  {
   "cell_type": "code",
   "execution_count": 33,
   "metadata": {},
   "outputs": [
    {
     "data": {
      "text/plain": [
       "Male      84\n",
       "Female    43\n",
       "Name: Gender, dtype: int64"
      ]
     },
     "execution_count": 33,
     "metadata": {},
     "output_type": "execute_result"
    }
   ],
   "source": [
    "updated_farmers_data.Gender.value_counts()"
   ]
  },
  {
   "cell_type": "code",
   "execution_count": 34,
   "metadata": {
    "scrolled": true
   },
   "outputs": [
    {
     "data": {
      "image/png": "[encoded data removed]",
      "text/plain": [
       "<Figure size 432x288 with 1 Axes>"
      ]
     },
     "metadata": {
      "needs_background": "light"
     },
     "output_type": "display_data"
    }
   ],
   "source": [
    "updated_farmers_data.Gender.hist()\n",
    "save_figure(\"Gender_Distribution_Histogram\")"
   ]
  },
  {
   "cell_type": "code",
   "execution_count": 41,
   "metadata": {},
   "outputs": [],
   "source": [
    "go.Histogram?"
   ]
  },
  {
   "cell_type": "code",
   "execution_count": 39,
   "metadata": {},
   "outputs": [
    {
     "data": {
      "application/vnd.plotly.v1+json": {
       "config": {
        "plotlyServerURL": "https://plot.ly"
       },
       "data": [
        {
         "type": "histogram",
         "x": [
          "Female",
          "Female",
          "Male",
          "Male",
          "Male",
          "Female",
          "Female",
          "Male",
          "Male",
          "Female",
          "Male",
          "Male",
          "Female",
          "Female",
          "Male",
          "Male",
          "Male",
          "Male",
          "Male",
          "Female",
          "Male",
          "Male",
          "Male",
          "Male",
          "Male",
          "Male",
          "Female",
          "Male",
          "Male",
          "Male",
          "Male",
          "Female",
          "Female",
          "Female",
          "Male",
          "Male",
          "Male",
          "Male",
          "Female",
          "Male",
          "Female",
          "Female",
          "Male",
          "Male",
          "Female",
          "Female",
          "Female",
          "Male",
          "Female",
          "Male",
          "Male",
          "Male",
          "Female",
          "Male",
          "Female",
          "Female",
          "Male",
          "Female",
          "Female",
          "Male",
          "Female",
          "Male",
          "Male",
          "Female",
          "Male",
          "Female",
          "Male",
          "Male",
          "Male",
          "Male",
          "Male",
          "Male",
          "Female",
          "Male",
          "Female",
          "Male",
          "Male",
          "Female",
          "Female",
          "Male",
          "Male",
          "Male",
          "Male",
          "Female",
          "Male",
          "Female",
          "Male",
          "Male",
          "Female",
          "Male",
          "Male",
          "Male",
          "Male",
          "Female",
          "Male",
          "Male",
          "Male",
          "Male",
          "Male",
          "Male",
          "Female",
          "Male",
          "Male",
          "Male",
          "Male",
          "Male",
          "Male",
          "Male",
          "Female",
          "Male",
          "Male",
          "Male",
          "Female",
          "Male",
          "Female",
          "Female",
          "Female",
          "Male",
          "Male",
          "Female",
          "Female",
          "Male",
          "Male",
          "Male",
          "Male",
          "Male",
          "Male"
         ]
        }
       ],
       "layout": {
        "template": {
         "data": {
          "bar": [
           {
            "error_x": {
             "color": "#2a3f5f"
            },
            "error_y": {
             "color": "#2a3f5f"
            },
            "marker": {
             "line": {
              "color": "#E5ECF6",
              "width": 0.5
             }
            },
            "type": "bar"
           }
          ],
          "barpolar": [
           {
            "marker": {
             "line": {
              "color": "#E5ECF6",
              "width": 0.5
             }
            },
            "type": "barpolar"
           }
          ],
          "carpet": [
           {
            "aaxis": {
             "endlinecolor": "#2a3f5f",
             "gridcolor": "white",
             "linecolor": "white",
             "minorgridcolor": "white",
             "startlinecolor": "#2a3f5f"
            },
            "baxis": {
             "endlinecolor": "#2a3f5f",
             "gridcolor": "white",
             "linecolor": "white",
             "minorgridcolor": "white",
             "startlinecolor": "#2a3f5f"
            },
            "type": "carpet"
           }
          ],
          "choropleth": [
           {
            "colorbar": {
             "outlinewidth": 0,
             "ticks": ""
            },
            "type": "choropleth"
           }
          ],
          "contour": [
           {
            "colorbar": {
             "outlinewidth": 0,
             "ticks": ""
            },
            "colorscale": [
             [
              0,
              "#0d0887"
             ],
             [
              0.1111111111111111,
              "#46039f"
             ],
             [
              0.2222222222222222,
              "#7201a8"
             ],
             [
              0.3333333333333333,
              "#9c179e"
             ],
             [
              0.4444444444444444,
              "#bd3786"
             ],
             [
              0.5555555555555556,
              "#d8576b"
             ],
             [
              0.6666666666666666,
              "#ed7953"
             ],
             [
              0.7777777777777778,
              "#fb9f3a"
             ],
             [
              0.8888888888888888,
              "#fdca26"
             ],
             [
              1,
              "#f0f921"
             ]
            ],
            "type": "contour"
           }
          ],
          "contourcarpet": [
           {
            "colorbar": {
             "outlinewidth": 0,
             "ticks": ""
            },
            "type": "contourcarpet"
           }
          ],
          "heatmap": [
           {
            "colorbar": {
             "outlinewidth": 0,
             "ticks": ""
            },
            "colorscale": [
             [
              0,
              "#0d0887"
             ],
             [
              0.1111111111111111,
              "#46039f"
             ],
             [
              0.2222222222222222,
              "#7201a8"
             ],
             [
              0.3333333333333333,
              "#9c179e"
             ],
             [
              0.4444444444444444,
              "#bd3786"
             ],
             [
              0.5555555555555556,
              "#d8576b"
             ],
             [
              0.6666666666666666,
              "#ed7953"
             ],
             [
              0.7777777777777778,
              "#fb9f3a"
             ],
             [
              0.8888888888888888,
              "#fdca26"
             ],
             [
              1,
              "#f0f921"
             ]
            ],
            "type": "heatmap"
           }
          ],
          "heatmapgl": [
           {
            "colorbar": {
             "outlinewidth": 0,
             "ticks": ""
            },
            "colorscale": [
             [
              0,
              "#0d0887"
             ],
             [
              0.1111111111111111,
              "#46039f"
             ],
             [
              0.2222222222222222,
              "#7201a8"
             ],
             [
              0.3333333333333333,
              "#9c179e"
             ],
             [
              0.4444444444444444,
              "#bd3786"
             ],
             [
              0.5555555555555556,
              "#d8576b"
             ],
             [
              0.6666666666666666,
              "#ed7953"
             ],
             [
              0.7777777777777778,
              "#fb9f3a"
             ],
             [
              0.8888888888888888,
              "#fdca26"
             ],
             [
              1,
              "#f0f921"
             ]
            ],
            "type": "heatmapgl"
           }
          ],
          "histogram": [
           {
            "marker": {
             "colorbar": {
              "outlinewidth": 0,
              "ticks": ""
             }
            },
            "type": "histogram"
           }
          ],
          "histogram2d": [
           {
            "colorbar": {
             "outlinewidth": 0,
             "ticks": ""
            },
            "colorscale": [
             [
              0,
              "#0d0887"
             ],
             [
              0.1111111111111111,
              "#46039f"
             ],
             [
              0.2222222222222222,
              "#7201a8"
             ],
             [
              0.3333333333333333,
              "#9c179e"
             ],
             [
              0.4444444444444444,
              "#bd3786"
             ],
             [
              0.5555555555555556,
              "#d8576b"
             ],
             [
              0.6666666666666666,
              "#ed7953"
             ],
             [
              0.7777777777777778,
              "#fb9f3a"
             ],
             [
              0.8888888888888888,
              "#fdca26"
             ],
             [
              1,
              "#f0f921"
             ]
            ],
            "type": "histogram2d"
           }
          ],
          "histogram2dcontour": [
           {
            "colorbar": {
             "outlinewidth": 0,
             "ticks": ""
            },
            "colorscale": [
             [
              0,
              "#0d0887"
             ],
             [
              0.1111111111111111,
              "#46039f"
             ],
             [
              0.2222222222222222,
              "#7201a8"
             ],
             [
              0.3333333333333333,
              "#9c179e"
             ],
             [
              0.4444444444444444,
              "#bd3786"
             ],
             [
              0.5555555555555556,
              "#d8576b"
             ],
             [
              0.6666666666666666,
              "#ed7953"
             ],
             [
              0.7777777777777778,
              "#fb9f3a"
             ],
             [
              0.8888888888888888,
              "#fdca26"
             ],
             [
              1,
              "#f0f921"
             ]
            ],
            "type": "histogram2dcontour"
           }
          ],
          "mesh3d": [
           {
            "colorbar": {
             "outlinewidth": 0,
             "ticks": ""
            },
            "type": "mesh3d"
           }
          ],
          "parcoords": [
           {
            "line": {
             "colorbar": {
              "outlinewidth": 0,
              "ticks": ""
             }
            },
            "type": "parcoords"
           }
          ],
          "pie": [
           {
            "automargin": true,
            "type": "pie"
           }
          ],
          "scatter": [
           {
            "marker": {
             "colorbar": {
              "outlinewidth": 0,
              "ticks": ""
             }
            },
            "type": "scatter"
           }
          ],
          "scatter3d": [
           {
            "line": {
             "colorbar": {
              "outlinewidth": 0,
              "ticks": ""
             }
            },
            "marker": {
             "colorbar": {
              "outlinewidth": 0,
              "ticks": ""
             }
            },
            "type": "scatter3d"
           }
          ],
          "scattercarpet": [
           {
            "marker": {
             "colorbar": {
              "outlinewidth": 0,
              "ticks": ""
             }
            },
            "type": "scattercarpet"
           }
          ],
          "scattergeo": [
           {
            "marker": {
             "colorbar": {
              "outlinewidth": 0,
              "ticks": ""
             }
            },
            "type": "scattergeo"
           }
          ],
          "scattergl": [
           {
            "marker": {
             "colorbar": {
              "outlinewidth": 0,
              "ticks": ""
             }
            },
            "type": "scattergl"
           }
          ],
          "scattermapbox": [
           {
            "marker": {
             "colorbar": {
              "outlinewidth": 0,
              "ticks": ""
             }
            },
            "type": "scattermapbox"
           }
          ],
          "scatterpolar": [
           {
            "marker": {
             "colorbar": {
              "outlinewidth": 0,
              "ticks": ""
             }
            },
            "type": "scatterpolar"
           }
          ],
          "scatterpolargl": [
           {
            "marker": {
             "colorbar": {
              "outlinewidth": 0,
              "ticks": ""
             }
            },
            "type": "scatterpolargl"
           }
          ],
          "scatterternary": [
           {
            "marker": {
             "colorbar": {
              "outlinewidth": 0,
              "ticks": ""
             }
            },
            "type": "scatterternary"
           }
          ],
          "surface": [
           {
            "colorbar": {
             "outlinewidth": 0,
             "ticks": ""
            },
            "colorscale": [
             [
              0,
              "#0d0887"
             ],
             [
              0.1111111111111111,
              "#46039f"
             ],
             [
              0.2222222222222222,
              "#7201a8"
             ],
             [
              0.3333333333333333,
              "#9c179e"
             ],
             [
              0.4444444444444444,
              "#bd3786"
             ],
             [
              0.5555555555555556,
              "#d8576b"
             ],
             [
              0.6666666666666666,
              "#ed7953"
             ],
             [
              0.7777777777777778,
              "#fb9f3a"
             ],
             [
              0.8888888888888888,
              "#fdca26"
             ],
             [
              1,
              "#f0f921"
             ]
            ],
            "type": "surface"
           }
          ],
          "table": [
           {
            "cells": {
             "fill": {
              "color": "#EBF0F8"
             },
             "line": {
              "color": "white"
             }
            },
            "header": {
             "fill": {
              "color": "#C8D4E3"
             },
             "line": {
              "color": "white"
             }
            },
            "type": "table"
           }
          ]
         },
         "layout": {
          "annotationdefaults": {
           "arrowcolor": "#2a3f5f",
           "arrowhead": 0,
           "arrowwidth": 1
          },
          "coloraxis": {
           "colorbar": {
            "outlinewidth": 0,
            "ticks": ""
           }
          },
          "colorscale": {
           "diverging": [
            [
             0,
             "#8e0152"
            ],
            [
             0.1,
             "#c51b7d"
            ],
            [
             0.2,
             "#de77ae"
            ],
            [
             0.3,
             "#f1b6da"
            ],
            [
             0.4,
             "#fde0ef"
            ],
            [
             0.5,
             "#f7f7f7"
            ],
            [
             0.6,
             "#e6f5d0"
            ],
            [
             0.7,
             "#b8e186"
            ],
            [
             0.8,
             "#7fbc41"
            ],
            [
             0.9,
             "#4d9221"
            ],
            [
             1,
             "#276419"
            ]
           ],
           "sequential": [
            [
             0,
             "#0d0887"
            ],
            [
             0.1111111111111111,
             "#46039f"
            ],
            [
             0.2222222222222222,
             "#7201a8"
            ],
            [
             0.3333333333333333,
             "#9c179e"
            ],
            [
             0.4444444444444444,
             "#bd3786"
            ],
            [
             0.5555555555555556,
             "#d8576b"
            ],
            [
             0.6666666666666666,
             "#ed7953"
            ],
            [
             0.7777777777777778,
             "#fb9f3a"
            ],
            [
             0.8888888888888888,
             "#fdca26"
            ],
            [
             1,
             "#f0f921"
            ]
           ],
           "sequentialminus": [
            [
             0,
             "#0d0887"
            ],
            [
             0.1111111111111111,
             "#46039f"
            ],
            [
             0.2222222222222222,
             "#7201a8"
            ],
            [
             0.3333333333333333,
             "#9c179e"
            ],
            [
             0.4444444444444444,
             "#bd3786"
            ],
            [
             0.5555555555555556,
             "#d8576b"
            ],
            [
             0.6666666666666666,
             "#ed7953"
            ],
            [
             0.7777777777777778,
             "#fb9f3a"
            ],
            [
             0.8888888888888888,
             "#fdca26"
            ],
            [
             1,
             "#f0f921"
            ]
           ]
          },
          "colorway": [
           "#636efa",
           "#EF553B",
           "#00cc96",
           "#ab63fa",
           "#FFA15A",
           "#19d3f3",
           "#FF6692",
           "#B6E880",
           "#FF97FF",
           "#FECB52"
          ],
          "font": {
           "color": "#2a3f5f"
          },
          "geo": {
           "bgcolor": "white",
           "lakecolor": "white",
           "landcolor": "#E5ECF6",
           "showlakes": true,
           "showland": true,
           "subunitcolor": "white"
          },
          "hoverlabel": {
           "align": "left"
          },
          "hovermode": "closest",
          "mapbox": {
           "style": "light"
          },
          "paper_bgcolor": "white",
          "plot_bgcolor": "#E5ECF6",
          "polar": {
           "angularaxis": {
            "gridcolor": "white",
            "linecolor": "white",
            "ticks": ""
           },
           "bgcolor": "#E5ECF6",
           "radialaxis": {
            "gridcolor": "white",
            "linecolor": "white",
            "ticks": ""
           }
          },
          "scene": {
           "xaxis": {
            "backgroundcolor": "#E5ECF6",
            "gridcolor": "white",
            "gridwidth": 2,
            "linecolor": "white",
            "showbackground": true,
            "ticks": "",
            "zerolinecolor": "white"
           },
           "yaxis": {
            "backgroundcolor": "#E5ECF6",
            "gridcolor": "white",
            "gridwidth": 2,
            "linecolor": "white",
            "showbackground": true,
            "ticks": "",
            "zerolinecolor": "white"
           },
           "zaxis": {
            "backgroundcolor": "#E5ECF6",
            "gridcolor": "white",
            "gridwidth": 2,
            "linecolor": "white",
            "showbackground": true,
            "ticks": "",
            "zerolinecolor": "white"
           }
          },
          "shapedefaults": {
           "line": {
            "color": "#2a3f5f"
           }
          },
          "ternary": {
           "aaxis": {
            "gridcolor": "white",
            "linecolor": "white",
            "ticks": ""
           },
           "baxis": {
            "gridcolor": "white",
            "linecolor": "white",
            "ticks": ""
           },
           "bgcolor": "#E5ECF6",
           "caxis": {
            "gridcolor": "white",
            "linecolor": "white",
            "ticks": ""
           }
          },
          "title": {
           "x": 0.05
          },
          "xaxis": {
           "automargin": true,
           "gridcolor": "white",
           "linecolor": "white",
           "ticks": "",
           "title": {
            "standoff": 15
           },
           "zerolinecolor": "white",
           "zerolinewidth": 2
          },
          "yaxis": {
           "automargin": true,
           "gridcolor": "white",
           "linecolor": "white",
           "ticks": "",
           "title": {
            "standoff": 15
           },
           "zerolinecolor": "white",
           "zerolinewidth": 2
          }
         }
        }
       }
      },
      "text/html": [
       "<div>\n",
       "        \n",
       "        \n",
       "            <div id=\"78dff640-0853-4c59-bd61-d7b7ce316a37\" class=\"plotly-graph-div\" style=\"height:525px; width:100%;\"></div>\n",
       "            <script type=\"text/javascript\">\n",
       "                require([\"plotly\"], function(Plotly) {\n",
       "                    window.PLOTLYENV=window.PLOTLYENV || {};\n",
       "                    \n",
       "                if (document.getElementById(\"78dff640-0853-4c59-bd61-d7b7ce316a37\")) {\n",
       "                    Plotly.newPlot(\n",
       "                        '78dff640-0853-4c59-bd61-d7b7ce316a37',\n",
       "                        [{\"type\": \"histogram\", \"x\": [\"Female\", \"Female\", \"Male\", \"Male\", \"Male\", \"Female\", \"Female\", \"Male\", \"Male\", \"Female\", \"Male\", \"Male\", \"Female\", \"Female\", \"Male\", \"Male\", \"Male\", \"Male\", \"Male\", \"Female\", \"Male\", \"Male\", \"Male\", \"Male\", \"Male\", \"Male\", \"Female\", \"Male\", \"Male\", \"Male\", \"Male\", \"Female\", \"Female\", \"Female\", \"Male\", \"Male\", \"Male\", \"Male\", \"Female\", \"Male\", \"Female\", \"Female\", \"Male\", \"Male\", \"Female\", \"Female\", \"Female\", \"Male\", \"Female\", \"Male\", \"Male\", \"Male\", \"Female\", \"Male\", \"Female\", \"Female\", \"Male\", \"Female\", \"Female\", \"Male\", \"Female\", \"Male\", \"Male\", \"Female\", \"Male\", \"Female\", \"Male\", \"Male\", \"Male\", \"Male\", \"Male\", \"Male\", \"Female\", \"Male\", \"Female\", \"Male\", \"Male\", \"Female\", \"Female\", \"Male\", \"Male\", \"Male\", \"Male\", \"Female\", \"Male\", \"Female\", \"Male\", \"Male\", \"Female\", \"Male\", \"Male\", \"Male\", \"Male\", \"Female\", \"Male\", \"Male\", \"Male\", \"Male\", \"Male\", \"Male\", \"Female\", \"Male\", \"Male\", \"Male\", \"Male\", \"Male\", \"Male\", \"Male\", \"Female\", \"Male\", \"Male\", \"Male\", \"Female\", \"Male\", \"Female\", \"Female\", \"Female\", \"Male\", \"Male\", \"Female\", \"Female\", \"Male\", \"Male\", \"Male\", \"Male\", \"Male\", \"Male\"]}],\n",
       "                        {\"template\": {\"data\": {\"bar\": [{\"error_x\": {\"color\": \"#2a3f5f\"}, \"error_y\": {\"color\": \"#2a3f5f\"}, \"marker\": {\"line\": {\"color\": \"#E5ECF6\", \"width\": 0.5}}, \"type\": \"bar\"}], \"barpolar\": [{\"marker\": {\"line\": {\"color\": \"#E5ECF6\", \"width\": 0.5}}, \"type\": \"barpolar\"}], \"carpet\": [{\"aaxis\": {\"endlinecolor\": \"#2a3f5f\", \"gridcolor\": \"white\", \"linecolor\": \"white\", \"minorgridcolor\": \"white\", \"startlinecolor\": \"#2a3f5f\"}, \"baxis\": {\"endlinecolor\": \"#2a3f5f\", \"gridcolor\": \"white\", \"linecolor\": \"white\", \"minorgridcolor\": \"white\", \"startlinecolor\": \"#2a3f5f\"}, \"type\": \"carpet\"}], \"choropleth\": [{\"colorbar\": {\"outlinewidth\": 0, \"ticks\": \"\"}, \"type\": \"choropleth\"}], \"contour\": [{\"colorbar\": {\"outlinewidth\": 0, \"ticks\": \"\"}, \"colorscale\": [[0.0, \"#0d0887\"], [0.1111111111111111, \"#46039f\"], [0.2222222222222222, \"#7201a8\"], [0.3333333333333333, \"#9c179e\"], [0.4444444444444444, \"#bd3786\"], [0.5555555555555556, \"#d8576b\"], [0.6666666666666666, \"#ed7953\"], [0.7777777777777778, \"#fb9f3a\"], [0.8888888888888888, \"#fdca26\"], [1.0, \"#f0f921\"]], \"type\": \"contour\"}], \"contourcarpet\": [{\"colorbar\": {\"outlinewidth\": 0, \"ticks\": \"\"}, \"type\": \"contourcarpet\"}], \"heatmap\": [{\"colorbar\": {\"outlinewidth\": 0, \"ticks\": \"\"}, \"colorscale\": [[0.0, \"#0d0887\"], [0.1111111111111111, \"#46039f\"], [0.2222222222222222, \"#7201a8\"], [0.3333333333333333, \"#9c179e\"], [0.4444444444444444, \"#bd3786\"], [0.5555555555555556, \"#d8576b\"], [0.6666666666666666, \"#ed7953\"], [0.7777777777777778, \"#fb9f3a\"], [0.8888888888888888, \"#fdca26\"], [1.0, \"#f0f921\"]], \"type\": \"heatmap\"}], \"heatmapgl\": [{\"colorbar\": {\"outlinewidth\": 0, \"ticks\": \"\"}, \"colorscale\": [[0.0, \"#0d0887\"], [0.1111111111111111, \"#46039f\"], [0.2222222222222222, \"#7201a8\"], [0.3333333333333333, \"#9c179e\"], [0.4444444444444444, \"#bd3786\"], [0.5555555555555556, \"#d8576b\"], [0.6666666666666666, \"#ed7953\"], [0.7777777777777778, \"#fb9f3a\"], [0.8888888888888888, \"#fdca26\"], [1.0, \"#f0f921\"]], \"type\": \"heatmapgl\"}], \"histogram\": [{\"marker\": {\"colorbar\": {\"outlinewidth\": 0, \"ticks\": \"\"}}, \"type\": \"histogram\"}], \"histogram2d\": [{\"colorbar\": {\"outlinewidth\": 0, \"ticks\": \"\"}, \"colorscale\": [[0.0, \"#0d0887\"], [0.1111111111111111, \"#46039f\"], [0.2222222222222222, \"#7201a8\"], [0.3333333333333333, \"#9c179e\"], [0.4444444444444444, \"#bd3786\"], [0.5555555555555556, \"#d8576b\"], [0.6666666666666666, \"#ed7953\"], [0.7777777777777778, \"#fb9f3a\"], [0.8888888888888888, \"#fdca26\"], [1.0, \"#f0f921\"]], \"type\": \"histogram2d\"}], \"histogram2dcontour\": [{\"colorbar\": {\"outlinewidth\": 0, \"ticks\": \"\"}, \"colorscale\": [[0.0, \"#0d0887\"], [0.1111111111111111, \"#46039f\"], [0.2222222222222222, \"#7201a8\"], [0.3333333333333333, \"#9c179e\"], [0.4444444444444444, \"#bd3786\"], [0.5555555555555556, \"#d8576b\"], [0.6666666666666666, \"#ed7953\"], [0.7777777777777778, \"#fb9f3a\"], [0.8888888888888888, \"#fdca26\"], [1.0, \"#f0f921\"]], \"type\": \"histogram2dcontour\"}], \"mesh3d\": [{\"colorbar\": {\"outlinewidth\": 0, \"ticks\": \"\"}, \"type\": \"mesh3d\"}], \"parcoords\": [{\"line\": {\"colorbar\": {\"outlinewidth\": 0, \"ticks\": \"\"}}, \"type\": \"parcoords\"}], \"pie\": [{\"automargin\": true, \"type\": \"pie\"}], \"scatter\": [{\"marker\": {\"colorbar\": {\"outlinewidth\": 0, \"ticks\": \"\"}}, \"type\": \"scatter\"}], \"scatter3d\": [{\"line\": {\"colorbar\": {\"outlinewidth\": 0, \"ticks\": \"\"}}, \"marker\": {\"colorbar\": {\"outlinewidth\": 0, \"ticks\": \"\"}}, \"type\": \"scatter3d\"}], \"scattercarpet\": [{\"marker\": {\"colorbar\": {\"outlinewidth\": 0, \"ticks\": \"\"}}, \"type\": \"scattercarpet\"}], \"scattergeo\": [{\"marker\": {\"colorbar\": {\"outlinewidth\": 0, \"ticks\": \"\"}}, \"type\": \"scattergeo\"}], \"scattergl\": [{\"marker\": {\"colorbar\": {\"outlinewidth\": 0, \"ticks\": \"\"}}, \"type\": \"scattergl\"}], \"scattermapbox\": [{\"marker\": {\"colorbar\": {\"outlinewidth\": 0, \"ticks\": \"\"}}, \"type\": \"scattermapbox\"}], \"scatterpolar\": [{\"marker\": {\"colorbar\": {\"outlinewidth\": 0, \"ticks\": \"\"}}, \"type\": \"scatterpolar\"}], \"scatterpolargl\": [{\"marker\": {\"colorbar\": {\"outlinewidth\": 0, \"ticks\": \"\"}}, \"type\": \"scatterpolargl\"}], \"scatterternary\": [{\"marker\": {\"colorbar\": {\"outlinewidth\": 0, \"ticks\": \"\"}}, \"type\": \"scatterternary\"}], \"surface\": [{\"colorbar\": {\"outlinewidth\": 0, \"ticks\": \"\"}, \"colorscale\": [[0.0, \"#0d0887\"], [0.1111111111111111, \"#46039f\"], [0.2222222222222222, \"#7201a8\"], [0.3333333333333333, \"#9c179e\"], [0.4444444444444444, \"#bd3786\"], [0.5555555555555556, \"#d8576b\"], [0.6666666666666666, \"#ed7953\"], [0.7777777777777778, \"#fb9f3a\"], [0.8888888888888888, \"#fdca26\"], [1.0, \"#f0f921\"]], \"type\": \"surface\"}], \"table\": [{\"cells\": {\"fill\": {\"color\": \"#EBF0F8\"}, \"line\": {\"color\": \"white\"}}, \"header\": {\"fill\": {\"color\": \"#C8D4E3\"}, \"line\": {\"color\": \"white\"}}, \"type\": \"table\"}]}, \"layout\": {\"annotationdefaults\": {\"arrowcolor\": \"#2a3f5f\", \"arrowhead\": 0, \"arrowwidth\": 1}, \"coloraxis\": {\"colorbar\": {\"outlinewidth\": 0, \"ticks\": \"\"}}, \"colorscale\": {\"diverging\": [[0, \"#8e0152\"], [0.1, \"#c51b7d\"], [0.2, \"#de77ae\"], [0.3, \"#f1b6da\"], [0.4, \"#fde0ef\"], [0.5, \"#f7f7f7\"], [0.6, \"#e6f5d0\"], [0.7, \"#b8e186\"], [0.8, \"#7fbc41\"], [0.9, \"#4d9221\"], [1, \"#276419\"]], \"sequential\": [[0.0, \"#0d0887\"], [0.1111111111111111, \"#46039f\"], [0.2222222222222222, \"#7201a8\"], [0.3333333333333333, \"#9c179e\"], [0.4444444444444444, \"#bd3786\"], [0.5555555555555556, \"#d8576b\"], [0.6666666666666666, \"#ed7953\"], [0.7777777777777778, \"#fb9f3a\"], [0.8888888888888888, \"#fdca26\"], [1.0, \"#f0f921\"]], \"sequentialminus\": [[0.0, \"#0d0887\"], [0.1111111111111111, \"#46039f\"], [0.2222222222222222, \"#7201a8\"], [0.3333333333333333, \"#9c179e\"], [0.4444444444444444, \"#bd3786\"], [0.5555555555555556, \"#d8576b\"], [0.6666666666666666, \"#ed7953\"], [0.7777777777777778, \"#fb9f3a\"], [0.8888888888888888, \"#fdca26\"], [1.0, \"#f0f921\"]]}, \"colorway\": [\"#636efa\", \"#EF553B\", \"#00cc96\", \"#ab63fa\", \"#FFA15A\", \"#19d3f3\", \"#FF6692\", \"#B6E880\", \"#FF97FF\", \"#FECB52\"], \"font\": {\"color\": \"#2a3f5f\"}, \"geo\": {\"bgcolor\": \"white\", \"lakecolor\": \"white\", \"landcolor\": \"#E5ECF6\", \"showlakes\": true, \"showland\": true, \"subunitcolor\": \"white\"}, \"hoverlabel\": {\"align\": \"left\"}, \"hovermode\": \"closest\", \"mapbox\": {\"style\": \"light\"}, \"paper_bgcolor\": \"white\", \"plot_bgcolor\": \"#E5ECF6\", \"polar\": {\"angularaxis\": {\"gridcolor\": \"white\", \"linecolor\": \"white\", \"ticks\": \"\"}, \"bgcolor\": \"#E5ECF6\", \"radialaxis\": {\"gridcolor\": \"white\", \"linecolor\": \"white\", \"ticks\": \"\"}}, \"scene\": {\"xaxis\": {\"backgroundcolor\": \"#E5ECF6\", \"gridcolor\": \"white\", \"gridwidth\": 2, \"linecolor\": \"white\", \"showbackground\": true, \"ticks\": \"\", \"zerolinecolor\": \"white\"}, \"yaxis\": {\"backgroundcolor\": \"#E5ECF6\", \"gridcolor\": \"white\", \"gridwidth\": 2, \"linecolor\": \"white\", \"showbackground\": true, \"ticks\": \"\", \"zerolinecolor\": \"white\"}, \"zaxis\": {\"backgroundcolor\": \"#E5ECF6\", \"gridcolor\": \"white\", \"gridwidth\": 2, \"linecolor\": \"white\", \"showbackground\": true, \"ticks\": \"\", \"zerolinecolor\": \"white\"}}, \"shapedefaults\": {\"line\": {\"color\": \"#2a3f5f\"}}, \"ternary\": {\"aaxis\": {\"gridcolor\": \"white\", \"linecolor\": \"white\", \"ticks\": \"\"}, \"baxis\": {\"gridcolor\": \"white\", \"linecolor\": \"white\", \"ticks\": \"\"}, \"bgcolor\": \"#E5ECF6\", \"caxis\": {\"gridcolor\": \"white\", \"linecolor\": \"white\", \"ticks\": \"\"}}, \"title\": {\"x\": 0.05}, \"xaxis\": {\"automargin\": true, \"gridcolor\": \"white\", \"linecolor\": \"white\", \"ticks\": \"\", \"title\": {\"standoff\": 15}, \"zerolinecolor\": \"white\", \"zerolinewidth\": 2}, \"yaxis\": {\"automargin\": true, \"gridcolor\": \"white\", \"linecolor\": \"white\", \"ticks\": \"\", \"title\": {\"standoff\": 15}, \"zerolinecolor\": \"white\", \"zerolinewidth\": 2}}}},\n",
       "                        {\"responsive\": true}\n",
       "                    ).then(function(){\n",
       "                            \n",
       "var gd = document.getElementById('78dff640-0853-4c59-bd61-d7b7ce316a37');\n",
       "var x = new MutationObserver(function (mutations, observer) {{\n",
       "        var display = window.getComputedStyle(gd).display;\n",
       "        if (!display || display === 'none') {{\n",
       "            console.log([gd, 'removed!']);\n",
       "            Plotly.purge(gd);\n",
       "            observer.disconnect();\n",
       "        }}\n",
       "}});\n",
       "\n",
       "// Listen for the removal of the full notebook cells\n",
       "var notebookContainer = gd.closest('#notebook-container');\n",
       "if (notebookContainer) {{\n",
       "    x.observe(notebookContainer, {childList: true});\n",
       "}}\n",
       "\n",
       "// Listen for the clearing of the current output cell\n",
       "var outputEl = gd.closest('.output');\n",
       "if (outputEl) {{\n",
       "    x.observe(outputEl, {childList: true});\n",
       "}}\n",
       "\n",
       "                        })\n",
       "                };\n",
       "                });\n",
       "            </script>\n",
       "        </div>"
      ]
     },
     "metadata": {},
     "output_type": "display_data"
    }
   ],
   "source": [
    "import plotly.graph_objects as go\n",
    "fig = go.Figure(data=[go.Histogram(x=updated_farmers_data.Gender)])\n",
    "fig.show()"
   ]
  },
  {
   "cell_type": "code",
   "execution_count": 244,
   "metadata": {},
   "outputs": [
    {
     "data": {
      "text/plain": [
       "Male      66.141732\n",
       "Female    33.858268\n",
       "Name: Gender, dtype: float64"
      ]
     },
     "execution_count": 244,
     "metadata": {},
     "output_type": "execute_result"
    }
   ],
   "source": [
    "percentage(updated_farmers_data, 'Gender')"
   ]
  },
  {
   "cell_type": "markdown",
   "metadata": {},
   "source": [
    "Gender Distribution Summary:\n",
    "- **84**(66.14%) male, **43**(33.86%) female"
   ]
  },
  {
   "cell_type": "markdown",
   "metadata": {},
   "source": [
    "### 2. Number of submissions (per gender)"
   ]
  },
  {
   "cell_type": "code",
   "execution_count": 225,
   "metadata": {},
   "outputs": [
    {
     "data": {
      "text/plain": [
       "Male      74945\n",
       "Female    40726\n",
       "Name: Gender, dtype: int64"
      ]
     },
     "execution_count": 225,
     "metadata": {},
     "output_type": "execute_result"
    }
   ],
   "source": [
    "combined_data_inner.Gender.value_counts()"
   ]
  },
  {
   "cell_type": "code",
   "execution_count": 226,
   "metadata": {},
   "outputs": [
    {
     "data": {
      "image/png": "[encoded data removed]",
      "text/plain": [
       "<Figure size 432x288 with 1 Axes>"
      ]
     },
     "metadata": {
      "needs_background": "light"
     },
     "output_type": "display_data"
    }
   ],
   "source": [
    "combined_data_inner.Gender.hist()\n",
    "save_figure(\"Number_of_Submissions_per_Gender\")"
   ]
  },
  {
   "cell_type": "code",
   "execution_count": 245,
   "metadata": {},
   "outputs": [
    {
     "data": {
      "text/plain": [
       "Male      64.791521\n",
       "Female    35.208479\n",
       "Name: Gender, dtype: float64"
      ]
     },
     "execution_count": 245,
     "metadata": {},
     "output_type": "execute_result"
    }
   ],
   "source": [
    "percentage(combined_data_inner, 'Gender')"
   ]
  },
  {
   "cell_type": "markdown",
   "metadata": {},
   "source": [
    "Number of submissions (per gender)\n",
    "- **74945** (64.79%) male, **40726** (35.21%) female"
   ]
  },
  {
   "cell_type": "markdown",
   "metadata": {},
   "source": [
    "### 3. Number of submissions per crop (per gender)"
   ]
  },
  {
   "cell_type": "code",
   "execution_count": 232,
   "metadata": {},
   "outputs": [
    {
     "data": {
      "text/plain": [
       "(53248, 6)"
      ]
     },
     "execution_count": 232,
     "metadata": {},
     "output_type": "execute_result"
    }
   ],
   "source": [
    "# Use the original datasets\n",
    "# Cassava series\n",
    "cassava_submissions = pd.DataFrame(cassava_series)\n",
    "combined_cassava_data = pd.merge(updated_farmers_data, cassava_submissions, \n",
    "                                 left_on='Farmer_ID', right_on='FARMER_ID',\n",
    "                                how='inner')\n",
    "combined_cassava_data.shape"
   ]
  },
  {
   "cell_type": "code",
   "execution_count": 246,
   "metadata": {},
   "outputs": [
    {
     "data": {
      "text/plain": [
       "Male      56.236854\n",
       "Female    43.763146\n",
       "Name: Gender, dtype: float64"
      ]
     },
     "execution_count": 246,
     "metadata": {},
     "output_type": "execute_result"
    }
   ],
   "source": [
    "percentage(combined_cassava_data, 'Gender')"
   ]
  },
  {
   "cell_type": "code",
   "execution_count": 236,
   "metadata": {},
   "outputs": [
    {
     "data": {
      "image/png": "[encoded data removed]",
      "text/plain": [
       "<Figure size 432x288 with 1 Axes>"
      ]
     },
     "metadata": {
      "needs_background": "light"
     },
     "output_type": "display_data"
    }
   ],
   "source": [
    "combined_cassava_data.Gender.hist()\n",
    "save_figure(\"Cassava_Gender_Representation\")"
   ]
  },
  {
   "cell_type": "code",
   "execution_count": 247,
   "metadata": {},
   "outputs": [
    {
     "data": {
      "text/plain": [
       "Male      73.548922\n",
       "Female    26.451078\n",
       "Name: Gender, dtype: float64"
      ]
     },
     "execution_count": 247,
     "metadata": {},
     "output_type": "execute_result"
    }
   ],
   "source": [
    "# Beans\n",
    "combined_bean_data = pd.merge(updated_farmers_data, pd.DataFrame(beans_series),\n",
    "                             left_on='Farmer_ID', right_on='FARMER_ID',\n",
    "                             how='inner')\n",
    "percentage(combined_bean_data, 'Gender')"
   ]
  },
  {
   "cell_type": "code",
   "execution_count": 248,
   "metadata": {},
   "outputs": [
    {
     "data": {
      "image/png": "[encoded data removed]",
      "text/plain": [
       "<Figure size 432x288 with 1 Axes>"
      ]
     },
     "metadata": {
      "needs_background": "light"
     },
     "output_type": "display_data"
    }
   ],
   "source": [
    "combined_bean_data.Gender.hist()\n",
    "save_figure(\"Bean_Gender_Distribution\")"
   ]
  },
  {
   "cell_type": "code",
   "execution_count": 249,
   "metadata": {},
   "outputs": [
    {
     "data": {
      "text/plain": [
       "Male      71.781497\n",
       "Female    28.218503\n",
       "Name: Gender, dtype: float64"
      ]
     },
     "execution_count": 249,
     "metadata": {},
     "output_type": "execute_result"
    }
   ],
   "source": [
    "# Maize\n",
    "combined_maize_data = pd.merge(updated_farmers_data, maize_series,\n",
    "                              left_on='Farmer_ID', right_on='FARMER_ID',\n",
    "                              how='inner')\n",
    "percentage(combined_maize_data, 'Gender')"
   ]
  },
  {
   "cell_type": "code",
   "execution_count": 251,
   "metadata": {},
   "outputs": [
    {
     "data": {
      "image/png": "[encoded data removed]",
      "text/plain": [
       "<Figure size 432x288 with 1 Axes>"
      ]
     },
     "metadata": {
      "needs_background": "light"
     },
     "output_type": "display_data"
    }
   ],
   "source": [
    "combined_maize_data.Gender.hist()\n",
    "save_figure(\"Maize_Gender_Representation\")"
   ]
  },
  {
   "cell_type": "code",
   "execution_count": null,
   "metadata": {},
   "outputs": [],
   "source": []
  },
  {
   "cell_type": "code",
   "execution_count": null,
   "metadata": {},
   "outputs": [],
   "source": []
  }
 ],
 "metadata": {
  "kernelspec": {
   "display_name": "Python 3",
   "language": "python",
   "name": "python3"
  },
  "language_info": {
   "codemirror_mode": {
    "name": "ipython",
    "version": 3
   },
   "file_extension": ".py",
   "mimetype": "text/x-python",
   "name": "python",
   "nbconvert_exporter": "python",
   "pygments_lexer": "ipython3",
   "version": "3.7.4"
  }
 },
 "nbformat": 4,
 "nbformat_minor": 2
}
